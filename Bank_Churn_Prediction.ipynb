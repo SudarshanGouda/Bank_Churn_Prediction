{
 "cells": [
  {
   "cell_type": "markdown",
   "id": "3f9f51e7",
   "metadata": {},
   "source": [
    "# Bank_Churn_Prediction"
   ]
  },
  {
   "cell_type": "code",
   "execution_count": 203,
   "id": "8c2cbe01",
   "metadata": {},
   "outputs": [],
   "source": [
    "import numpy as np\n",
    "import pandas as pd\n",
    "import matplotlib.pyplot as plt\n",
    "import seaborn as sns\n",
    "import warnings\n",
    "warnings.filterwarnings('ignore')"
   ]
  },
  {
   "cell_type": "markdown",
   "id": "21748119",
   "metadata": {},
   "source": [
    "## Importing Data"
   ]
  },
  {
   "cell_type": "code",
   "execution_count": 204,
   "id": "9a1f6a30",
   "metadata": {},
   "outputs": [],
   "source": [
    "df_raw=pd.read_csv('Churn_Modelling.csv')"
   ]
  },
  {
   "cell_type": "code",
   "execution_count": 205,
   "id": "5e9be353",
   "metadata": {},
   "outputs": [],
   "source": [
    "df=df_raw.copy()"
   ]
  },
  {
   "cell_type": "code",
   "execution_count": 206,
   "id": "2d0c0bab",
   "metadata": {},
   "outputs": [
    {
     "data": {
      "text/html": [
       "<div>\n",
       "<style scoped>\n",
       "    .dataframe tbody tr th:only-of-type {\n",
       "        vertical-align: middle;\n",
       "    }\n",
       "\n",
       "    .dataframe tbody tr th {\n",
       "        vertical-align: top;\n",
       "    }\n",
       "\n",
       "    .dataframe thead th {\n",
       "        text-align: right;\n",
       "    }\n",
       "</style>\n",
       "<table border=\"1\" class=\"dataframe\">\n",
       "  <thead>\n",
       "    <tr style=\"text-align: right;\">\n",
       "      <th></th>\n",
       "      <th>RowNumber</th>\n",
       "      <th>CustomerId</th>\n",
       "      <th>Surname</th>\n",
       "      <th>CreditScore</th>\n",
       "      <th>Geography</th>\n",
       "      <th>Gender</th>\n",
       "      <th>Age</th>\n",
       "      <th>Tenure</th>\n",
       "      <th>Balance</th>\n",
       "      <th>NumOfProducts</th>\n",
       "      <th>HasCrCard</th>\n",
       "      <th>IsActiveMember</th>\n",
       "      <th>EstimatedSalary</th>\n",
       "      <th>Exited</th>\n",
       "    </tr>\n",
       "  </thead>\n",
       "  <tbody>\n",
       "    <tr>\n",
       "      <th>0</th>\n",
       "      <td>1</td>\n",
       "      <td>15634602</td>\n",
       "      <td>Hargrave</td>\n",
       "      <td>619</td>\n",
       "      <td>France</td>\n",
       "      <td>Female</td>\n",
       "      <td>42</td>\n",
       "      <td>2</td>\n",
       "      <td>0.00</td>\n",
       "      <td>1</td>\n",
       "      <td>1</td>\n",
       "      <td>1</td>\n",
       "      <td>101348.88</td>\n",
       "      <td>1</td>\n",
       "    </tr>\n",
       "    <tr>\n",
       "      <th>1</th>\n",
       "      <td>2</td>\n",
       "      <td>15647311</td>\n",
       "      <td>Hill</td>\n",
       "      <td>608</td>\n",
       "      <td>Spain</td>\n",
       "      <td>Female</td>\n",
       "      <td>41</td>\n",
       "      <td>1</td>\n",
       "      <td>83807.86</td>\n",
       "      <td>1</td>\n",
       "      <td>0</td>\n",
       "      <td>1</td>\n",
       "      <td>112542.58</td>\n",
       "      <td>0</td>\n",
       "    </tr>\n",
       "    <tr>\n",
       "      <th>2</th>\n",
       "      <td>3</td>\n",
       "      <td>15619304</td>\n",
       "      <td>Onio</td>\n",
       "      <td>502</td>\n",
       "      <td>France</td>\n",
       "      <td>Female</td>\n",
       "      <td>42</td>\n",
       "      <td>8</td>\n",
       "      <td>159660.80</td>\n",
       "      <td>3</td>\n",
       "      <td>1</td>\n",
       "      <td>0</td>\n",
       "      <td>113931.57</td>\n",
       "      <td>1</td>\n",
       "    </tr>\n",
       "    <tr>\n",
       "      <th>3</th>\n",
       "      <td>4</td>\n",
       "      <td>15701354</td>\n",
       "      <td>Boni</td>\n",
       "      <td>699</td>\n",
       "      <td>France</td>\n",
       "      <td>Female</td>\n",
       "      <td>39</td>\n",
       "      <td>1</td>\n",
       "      <td>0.00</td>\n",
       "      <td>2</td>\n",
       "      <td>0</td>\n",
       "      <td>0</td>\n",
       "      <td>93826.63</td>\n",
       "      <td>0</td>\n",
       "    </tr>\n",
       "    <tr>\n",
       "      <th>4</th>\n",
       "      <td>5</td>\n",
       "      <td>15737888</td>\n",
       "      <td>Mitchell</td>\n",
       "      <td>850</td>\n",
       "      <td>Spain</td>\n",
       "      <td>Female</td>\n",
       "      <td>43</td>\n",
       "      <td>2</td>\n",
       "      <td>125510.82</td>\n",
       "      <td>1</td>\n",
       "      <td>1</td>\n",
       "      <td>1</td>\n",
       "      <td>79084.10</td>\n",
       "      <td>0</td>\n",
       "    </tr>\n",
       "  </tbody>\n",
       "</table>\n",
       "</div>"
      ],
      "text/plain": [
       "   RowNumber  CustomerId   Surname  CreditScore Geography  Gender  Age  \\\n",
       "0          1    15634602  Hargrave          619    France  Female   42   \n",
       "1          2    15647311      Hill          608     Spain  Female   41   \n",
       "2          3    15619304      Onio          502    France  Female   42   \n",
       "3          4    15701354      Boni          699    France  Female   39   \n",
       "4          5    15737888  Mitchell          850     Spain  Female   43   \n",
       "\n",
       "   Tenure    Balance  NumOfProducts  HasCrCard  IsActiveMember  \\\n",
       "0       2       0.00              1          1               1   \n",
       "1       1   83807.86              1          0               1   \n",
       "2       8  159660.80              3          1               0   \n",
       "3       1       0.00              2          0               0   \n",
       "4       2  125510.82              1          1               1   \n",
       "\n",
       "   EstimatedSalary  Exited  \n",
       "0        101348.88       1  \n",
       "1        112542.58       0  \n",
       "2        113931.57       1  \n",
       "3         93826.63       0  \n",
       "4         79084.10       0  "
      ]
     },
     "execution_count": 206,
     "metadata": {},
     "output_type": "execute_result"
    }
   ],
   "source": [
    "df.head()"
   ]
  },
  {
   "cell_type": "markdown",
   "id": "4fd87243",
   "metadata": {},
   "source": [
    "## Data Processing"
   ]
  },
  {
   "cell_type": "code",
   "execution_count": 207,
   "id": "0883910a",
   "metadata": {
    "scrolled": false
   },
   "outputs": [
    {
     "name": "stdout",
     "output_type": "stream",
     "text": [
      "<class 'pandas.core.frame.DataFrame'>\n",
      "RangeIndex: 10000 entries, 0 to 9999\n",
      "Data columns (total 14 columns):\n",
      " #   Column           Non-Null Count  Dtype  \n",
      "---  ------           --------------  -----  \n",
      " 0   RowNumber        10000 non-null  int64  \n",
      " 1   CustomerId       10000 non-null  int64  \n",
      " 2   Surname          10000 non-null  object \n",
      " 3   CreditScore      10000 non-null  int64  \n",
      " 4   Geography        10000 non-null  object \n",
      " 5   Gender           10000 non-null  object \n",
      " 6   Age              10000 non-null  int64  \n",
      " 7   Tenure           10000 non-null  int64  \n",
      " 8   Balance          10000 non-null  float64\n",
      " 9   NumOfProducts    10000 non-null  int64  \n",
      " 10  HasCrCard        10000 non-null  int64  \n",
      " 11  IsActiveMember   10000 non-null  int64  \n",
      " 12  EstimatedSalary  10000 non-null  float64\n",
      " 13  Exited           10000 non-null  int64  \n",
      "dtypes: float64(2), int64(9), object(3)\n",
      "memory usage: 1.1+ MB\n"
     ]
    }
   ],
   "source": [
    "df.info()"
   ]
  },
  {
   "cell_type": "code",
   "execution_count": 208,
   "id": "c62e86d7",
   "metadata": {},
   "outputs": [
    {
     "data": {
      "text/plain": [
       "RowNumber          0\n",
       "CustomerId         0\n",
       "Surname            0\n",
       "CreditScore        0\n",
       "Geography          0\n",
       "Gender             0\n",
       "Age                0\n",
       "Tenure             0\n",
       "Balance            0\n",
       "NumOfProducts      0\n",
       "HasCrCard          0\n",
       "IsActiveMember     0\n",
       "EstimatedSalary    0\n",
       "Exited             0\n",
       "dtype: int64"
      ]
     },
     "execution_count": 208,
     "metadata": {},
     "output_type": "execute_result"
    }
   ],
   "source": [
    "df.isna().sum()"
   ]
  },
  {
   "cell_type": "code",
   "execution_count": 209,
   "id": "8b3b2544",
   "metadata": {},
   "outputs": [
    {
     "data": {
      "text/plain": [
       "Index(['RowNumber', 'CustomerId', 'Surname', 'CreditScore', 'Geography',\n",
       "       'Gender', 'Age', 'Tenure', 'Balance', 'NumOfProducts', 'HasCrCard',\n",
       "       'IsActiveMember', 'EstimatedSalary', 'Exited'],\n",
       "      dtype='object')"
      ]
     },
     "execution_count": 209,
     "metadata": {},
     "output_type": "execute_result"
    }
   ],
   "source": [
    "df.columns"
   ]
  },
  {
   "cell_type": "code",
   "execution_count": 210,
   "id": "125d1663",
   "metadata": {},
   "outputs": [],
   "source": [
    "df.drop(['RowNumber', 'CustomerId', 'Surname'],axis=1,inplace=True)"
   ]
  },
  {
   "cell_type": "code",
   "execution_count": 211,
   "id": "5247c30e",
   "metadata": {
    "scrolled": true
   },
   "outputs": [
    {
     "data": {
      "text/plain": [
       "CreditScore         460\n",
       "Geography             3\n",
       "Gender                2\n",
       "Age                  70\n",
       "Tenure               11\n",
       "Balance            6382\n",
       "NumOfProducts         4\n",
       "HasCrCard             2\n",
       "IsActiveMember        2\n",
       "EstimatedSalary    9999\n",
       "Exited                2\n",
       "dtype: int64"
      ]
     },
     "execution_count": 211,
     "metadata": {},
     "output_type": "execute_result"
    }
   ],
   "source": [
    "df.nunique()"
   ]
  },
  {
   "cell_type": "code",
   "execution_count": 212,
   "id": "fb55466c",
   "metadata": {},
   "outputs": [
    {
     "data": {
      "text/plain": [
       "array(['France', 'Spain', 'Germany'], dtype=object)"
      ]
     },
     "execution_count": 212,
     "metadata": {},
     "output_type": "execute_result"
    }
   ],
   "source": [
    "df['Geography'].unique()"
   ]
  },
  {
   "cell_type": "code",
   "execution_count": 213,
   "id": "7bee4998",
   "metadata": {},
   "outputs": [],
   "source": [
    "Geography=pd.get_dummies(df['Geography'],drop_first=True)"
   ]
  },
  {
   "cell_type": "code",
   "execution_count": 214,
   "id": "0dc47dc3",
   "metadata": {},
   "outputs": [],
   "source": [
    "df=pd.concat([df,Geography],axis=1)"
   ]
  },
  {
   "cell_type": "code",
   "execution_count": 215,
   "id": "dfed346c",
   "metadata": {},
   "outputs": [],
   "source": [
    "df.drop('Geography',axis=1,inplace=True)"
   ]
  },
  {
   "cell_type": "code",
   "execution_count": 216,
   "id": "ce01f812",
   "metadata": {},
   "outputs": [
    {
     "data": {
      "text/html": [
       "<div>\n",
       "<style scoped>\n",
       "    .dataframe tbody tr th:only-of-type {\n",
       "        vertical-align: middle;\n",
       "    }\n",
       "\n",
       "    .dataframe tbody tr th {\n",
       "        vertical-align: top;\n",
       "    }\n",
       "\n",
       "    .dataframe thead th {\n",
       "        text-align: right;\n",
       "    }\n",
       "</style>\n",
       "<table border=\"1\" class=\"dataframe\">\n",
       "  <thead>\n",
       "    <tr style=\"text-align: right;\">\n",
       "      <th></th>\n",
       "      <th>CreditScore</th>\n",
       "      <th>Gender</th>\n",
       "      <th>Age</th>\n",
       "      <th>Tenure</th>\n",
       "      <th>Balance</th>\n",
       "      <th>NumOfProducts</th>\n",
       "      <th>HasCrCard</th>\n",
       "      <th>IsActiveMember</th>\n",
       "      <th>EstimatedSalary</th>\n",
       "      <th>Exited</th>\n",
       "      <th>Germany</th>\n",
       "      <th>Spain</th>\n",
       "    </tr>\n",
       "  </thead>\n",
       "  <tbody>\n",
       "    <tr>\n",
       "      <th>0</th>\n",
       "      <td>619</td>\n",
       "      <td>Female</td>\n",
       "      <td>42</td>\n",
       "      <td>2</td>\n",
       "      <td>0.00</td>\n",
       "      <td>1</td>\n",
       "      <td>1</td>\n",
       "      <td>1</td>\n",
       "      <td>101348.88</td>\n",
       "      <td>1</td>\n",
       "      <td>0</td>\n",
       "      <td>0</td>\n",
       "    </tr>\n",
       "    <tr>\n",
       "      <th>1</th>\n",
       "      <td>608</td>\n",
       "      <td>Female</td>\n",
       "      <td>41</td>\n",
       "      <td>1</td>\n",
       "      <td>83807.86</td>\n",
       "      <td>1</td>\n",
       "      <td>0</td>\n",
       "      <td>1</td>\n",
       "      <td>112542.58</td>\n",
       "      <td>0</td>\n",
       "      <td>0</td>\n",
       "      <td>1</td>\n",
       "    </tr>\n",
       "    <tr>\n",
       "      <th>2</th>\n",
       "      <td>502</td>\n",
       "      <td>Female</td>\n",
       "      <td>42</td>\n",
       "      <td>8</td>\n",
       "      <td>159660.80</td>\n",
       "      <td>3</td>\n",
       "      <td>1</td>\n",
       "      <td>0</td>\n",
       "      <td>113931.57</td>\n",
       "      <td>1</td>\n",
       "      <td>0</td>\n",
       "      <td>0</td>\n",
       "    </tr>\n",
       "    <tr>\n",
       "      <th>3</th>\n",
       "      <td>699</td>\n",
       "      <td>Female</td>\n",
       "      <td>39</td>\n",
       "      <td>1</td>\n",
       "      <td>0.00</td>\n",
       "      <td>2</td>\n",
       "      <td>0</td>\n",
       "      <td>0</td>\n",
       "      <td>93826.63</td>\n",
       "      <td>0</td>\n",
       "      <td>0</td>\n",
       "      <td>0</td>\n",
       "    </tr>\n",
       "    <tr>\n",
       "      <th>4</th>\n",
       "      <td>850</td>\n",
       "      <td>Female</td>\n",
       "      <td>43</td>\n",
       "      <td>2</td>\n",
       "      <td>125510.82</td>\n",
       "      <td>1</td>\n",
       "      <td>1</td>\n",
       "      <td>1</td>\n",
       "      <td>79084.10</td>\n",
       "      <td>0</td>\n",
       "      <td>0</td>\n",
       "      <td>1</td>\n",
       "    </tr>\n",
       "  </tbody>\n",
       "</table>\n",
       "</div>"
      ],
      "text/plain": [
       "   CreditScore  Gender  Age  Tenure    Balance  NumOfProducts  HasCrCard  \\\n",
       "0          619  Female   42       2       0.00              1          1   \n",
       "1          608  Female   41       1   83807.86              1          0   \n",
       "2          502  Female   42       8  159660.80              3          1   \n",
       "3          699  Female   39       1       0.00              2          0   \n",
       "4          850  Female   43       2  125510.82              1          1   \n",
       "\n",
       "   IsActiveMember  EstimatedSalary  Exited  Germany  Spain  \n",
       "0               1        101348.88       1        0      0  \n",
       "1               1        112542.58       0        0      1  \n",
       "2               0        113931.57       1        0      0  \n",
       "3               0         93826.63       0        0      0  \n",
       "4               1         79084.10       0        0      1  "
      ]
     },
     "execution_count": 216,
     "metadata": {},
     "output_type": "execute_result"
    }
   ],
   "source": [
    "df.head()"
   ]
  },
  {
   "cell_type": "code",
   "execution_count": 217,
   "id": "d2b71b8d",
   "metadata": {},
   "outputs": [
    {
     "data": {
      "text/plain": [
       "array(['Female', 'Male'], dtype=object)"
      ]
     },
     "execution_count": 217,
     "metadata": {},
     "output_type": "execute_result"
    }
   ],
   "source": [
    "df['Gender'].unique()"
   ]
  },
  {
   "cell_type": "code",
   "execution_count": 218,
   "id": "35093ae5",
   "metadata": {},
   "outputs": [],
   "source": [
    "df['Gender']=df['Gender'].map({'Female':1, 'Male':0})"
   ]
  },
  {
   "cell_type": "code",
   "execution_count": 219,
   "id": "f4d26dd4",
   "metadata": {},
   "outputs": [
    {
     "data": {
      "text/plain": [
       "Index(['CreditScore', 'Gender', 'Age', 'Tenure', 'Balance', 'NumOfProducts',\n",
       "       'HasCrCard', 'IsActiveMember', 'EstimatedSalary', 'Exited', 'Germany',\n",
       "       'Spain'],\n",
       "      dtype='object')"
      ]
     },
     "execution_count": 219,
     "metadata": {},
     "output_type": "execute_result"
    }
   ],
   "source": [
    "df.columns"
   ]
  },
  {
   "cell_type": "code",
   "execution_count": 220,
   "id": "6f952f82",
   "metadata": {},
   "outputs": [],
   "source": [
    "df=df[['CreditScore', 'Gender', 'Age', 'Tenure', 'Balance', 'NumOfProducts',\n",
    "       'HasCrCard', 'IsActiveMember', 'EstimatedSalary', 'Germany',\n",
    "       'Spain', 'Exited']]"
   ]
  },
  {
   "cell_type": "code",
   "execution_count": 221,
   "id": "19f60256",
   "metadata": {
    "scrolled": true
   },
   "outputs": [
    {
     "data": {
      "text/html": [
       "<div>\n",
       "<style scoped>\n",
       "    .dataframe tbody tr th:only-of-type {\n",
       "        vertical-align: middle;\n",
       "    }\n",
       "\n",
       "    .dataframe tbody tr th {\n",
       "        vertical-align: top;\n",
       "    }\n",
       "\n",
       "    .dataframe thead th {\n",
       "        text-align: right;\n",
       "    }\n",
       "</style>\n",
       "<table border=\"1\" class=\"dataframe\">\n",
       "  <thead>\n",
       "    <tr style=\"text-align: right;\">\n",
       "      <th></th>\n",
       "      <th>CreditScore</th>\n",
       "      <th>Gender</th>\n",
       "      <th>Age</th>\n",
       "      <th>Tenure</th>\n",
       "      <th>Balance</th>\n",
       "      <th>NumOfProducts</th>\n",
       "      <th>HasCrCard</th>\n",
       "      <th>IsActiveMember</th>\n",
       "      <th>EstimatedSalary</th>\n",
       "      <th>Germany</th>\n",
       "      <th>Spain</th>\n",
       "      <th>Exited</th>\n",
       "    </tr>\n",
       "  </thead>\n",
       "  <tbody>\n",
       "    <tr>\n",
       "      <th>0</th>\n",
       "      <td>619</td>\n",
       "      <td>1</td>\n",
       "      <td>42</td>\n",
       "      <td>2</td>\n",
       "      <td>0.00</td>\n",
       "      <td>1</td>\n",
       "      <td>1</td>\n",
       "      <td>1</td>\n",
       "      <td>101348.88</td>\n",
       "      <td>0</td>\n",
       "      <td>0</td>\n",
       "      <td>1</td>\n",
       "    </tr>\n",
       "    <tr>\n",
       "      <th>1</th>\n",
       "      <td>608</td>\n",
       "      <td>1</td>\n",
       "      <td>41</td>\n",
       "      <td>1</td>\n",
       "      <td>83807.86</td>\n",
       "      <td>1</td>\n",
       "      <td>0</td>\n",
       "      <td>1</td>\n",
       "      <td>112542.58</td>\n",
       "      <td>0</td>\n",
       "      <td>1</td>\n",
       "      <td>0</td>\n",
       "    </tr>\n",
       "    <tr>\n",
       "      <th>2</th>\n",
       "      <td>502</td>\n",
       "      <td>1</td>\n",
       "      <td>42</td>\n",
       "      <td>8</td>\n",
       "      <td>159660.80</td>\n",
       "      <td>3</td>\n",
       "      <td>1</td>\n",
       "      <td>0</td>\n",
       "      <td>113931.57</td>\n",
       "      <td>0</td>\n",
       "      <td>0</td>\n",
       "      <td>1</td>\n",
       "    </tr>\n",
       "    <tr>\n",
       "      <th>3</th>\n",
       "      <td>699</td>\n",
       "      <td>1</td>\n",
       "      <td>39</td>\n",
       "      <td>1</td>\n",
       "      <td>0.00</td>\n",
       "      <td>2</td>\n",
       "      <td>0</td>\n",
       "      <td>0</td>\n",
       "      <td>93826.63</td>\n",
       "      <td>0</td>\n",
       "      <td>0</td>\n",
       "      <td>0</td>\n",
       "    </tr>\n",
       "    <tr>\n",
       "      <th>4</th>\n",
       "      <td>850</td>\n",
       "      <td>1</td>\n",
       "      <td>43</td>\n",
       "      <td>2</td>\n",
       "      <td>125510.82</td>\n",
       "      <td>1</td>\n",
       "      <td>1</td>\n",
       "      <td>1</td>\n",
       "      <td>79084.10</td>\n",
       "      <td>0</td>\n",
       "      <td>1</td>\n",
       "      <td>0</td>\n",
       "    </tr>\n",
       "  </tbody>\n",
       "</table>\n",
       "</div>"
      ],
      "text/plain": [
       "   CreditScore  Gender  Age  Tenure    Balance  NumOfProducts  HasCrCard  \\\n",
       "0          619       1   42       2       0.00              1          1   \n",
       "1          608       1   41       1   83807.86              1          0   \n",
       "2          502       1   42       8  159660.80              3          1   \n",
       "3          699       1   39       1       0.00              2          0   \n",
       "4          850       1   43       2  125510.82              1          1   \n",
       "\n",
       "   IsActiveMember  EstimatedSalary  Germany  Spain  Exited  \n",
       "0               1        101348.88        0      0       1  \n",
       "1               1        112542.58        0      1       0  \n",
       "2               0        113931.57        0      0       1  \n",
       "3               0         93826.63        0      0       0  \n",
       "4               1         79084.10        0      1       0  "
      ]
     },
     "execution_count": 221,
     "metadata": {},
     "output_type": "execute_result"
    }
   ],
   "source": [
    "df.head()"
   ]
  },
  {
   "cell_type": "markdown",
   "id": "a91a1352",
   "metadata": {},
   "source": [
    "## EDA"
   ]
  },
  {
   "cell_type": "code",
   "execution_count": 222,
   "id": "67491ad4",
   "metadata": {
    "scrolled": true
   },
   "outputs": [
    {
     "data": {
      "text/plain": [
       "<AxesSubplot:xlabel='Exited', ylabel='count'>"
      ]
     },
     "execution_count": 222,
     "metadata": {},
     "output_type": "execute_result"
    },
    {
     "data": {
      "image/png": "[encoded data removed]",
      "text/plain": [
       "<Figure size 432x288 with 1 Axes>"
      ]
     },
     "metadata": {
      "needs_background": "light"
     },
     "output_type": "display_data"
    }
   ],
   "source": [
    "sns.countplot(df['Exited'],hue=df['Gender'])"
   ]
  },
  {
   "cell_type": "code",
   "execution_count": 223,
   "id": "2e1dc956",
   "metadata": {
    "scrolled": false
   },
   "outputs": [
    {
     "data": {
      "text/plain": [
       "Index(['CreditScore', 'Gender', 'Age', 'Tenure', 'Balance', 'NumOfProducts',\n",
       "       'HasCrCard', 'IsActiveMember', 'EstimatedSalary', 'Germany', 'Spain',\n",
       "       'Exited'],\n",
       "      dtype='object')"
      ]
     },
     "execution_count": 223,
     "metadata": {},
     "output_type": "execute_result"
    }
   ],
   "source": [
    "df.columns"
   ]
  },
  {
   "cell_type": "code",
   "execution_count": 224,
   "id": "cb2e880f",
   "metadata": {},
   "outputs": [],
   "source": [
    "lt=['Gender','Age','Tenure','NumOfProducts','HasCrCard','IsActiveMember']"
   ]
  },
  {
   "cell_type": "code",
   "execution_count": 225,
   "id": "ecec8e82",
   "metadata": {},
   "outputs": [
    {
     "data": {
      "image/png": "[encoded data removed]",
      "text/plain": [
       "<Figure size 432x288 with 1 Axes>"
      ]
     },
     "metadata": {
      "needs_background": "light"
     },
     "output_type": "display_data"
    },
    {
     "data": {
      "image/png": "[encoded data removed]",
      "text/plain": [
       "<Figure size 432x288 with 1 Axes>"
      ]
     },
     "metadata": {
      "needs_background": "light"
     },
     "output_type": "display_data"
    },
    {
     "data": {
      "image/png": "[encoded data removed]",
      "text/plain": [
       "<Figure size 432x288 with 1 Axes>"
      ]
     },
     "metadata": {
      "needs_background": "light"
     },
     "output_type": "display_data"
    },
    {
     "data": {
      "image/png": "[encoded data removed]",
      "text/plain": [
       "<Figure size 432x288 with 1 Axes>"
      ]
     },
     "metadata": {
      "needs_background": "light"
     },
     "output_type": "display_data"
    },
    {
     "data": {
      "image/png": "[encoded data removed]",
      "text/plain": [
       "<Figure size 432x288 with 1 Axes>"
      ]
     },
     "metadata": {
      "needs_background": "light"
     },
     "output_type": "display_data"
    },
    {
     "data": {
      "image/png": "[encoded data removed]",
      "text/plain": [
       "<Figure size 432x288 with 1 Axes>"
      ]
     },
     "metadata": {
      "needs_background": "light"
     },
     "output_type": "display_data"
    }
   ],
   "source": [
    "for i in lt:\n",
    "    sns.countplot(df[i],hue=df['Exited'])\n",
    "    plt.show()"
   ]
  },
  {
   "cell_type": "code",
   "execution_count": 226,
   "id": "f1a376d6",
   "metadata": {
    "scrolled": false
   },
   "outputs": [
    {
     "data": {
      "image/png": "[encoded data removed]",
      "text/plain": [
       "<Figure size 432x288 with 1 Axes>"
      ]
     },
     "metadata": {
      "needs_background": "light"
     },
     "output_type": "display_data"
    },
    {
     "data": {
      "image/png": "[encoded data removed]",
      "text/plain": [
       "<Figure size 432x288 with 1 Axes>"
      ]
     },
     "metadata": {
      "needs_background": "light"
     },
     "output_type": "display_data"
    },
    {
     "data": {
      "image/png": "[encoded data removed]",
      "text/plain": [
       "<Figure size 432x288 with 1 Axes>"
      ]
     },
     "metadata": {
      "needs_background": "light"
     },
     "output_type": "display_data"
    },
    {
     "data": {
      "image/png": "[encoded data removed]",
      "text/plain": [
       "<Figure size 432x288 with 1 Axes>"
      ]
     },
     "metadata": {
      "needs_background": "light"
     },
     "output_type": "display_data"
    },
    {
     "data": {
      "image/png": "[encoded data removed]",
      "text/plain": [
       "<Figure size 432x288 with 1 Axes>"
      ]
     },
     "metadata": {
      "needs_background": "light"
     },
     "output_type": "display_data"
    },
    {
     "data": {
      "image/png": "[encoded data removed]",
      "text/plain": [
       "<Figure size 432x288 with 1 Axes>"
      ]
     },
     "metadata": {
      "needs_background": "light"
     },
     "output_type": "display_data"
    },
    {
     "data": {
      "image/png": "[encoded data removed]",
      "text/plain": [
       "<Figure size 432x288 with 1 Axes>"
      ]
     },
     "metadata": {
      "needs_background": "light"
     },
     "output_type": "display_data"
    },
    {
     "data": {
      "image/png": "[encoded data removed]",
      "text/plain": [
       "<Figure size 432x288 with 1 Axes>"
      ]
     },
     "metadata": {
      "needs_background": "light"
     },
     "output_type": "display_data"
    },
    {
     "data": {
      "image/png": "[encoded data removed]",
      "text/plain": [
       "<Figure size 432x288 with 1 Axes>"
      ]
     },
     "metadata": {
      "needs_background": "light"
     },
     "output_type": "display_data"
    },
    {
     "data": {
      "image/png": "[encoded data removed]",
      "text/plain": [
       "<Figure size 432x288 with 1 Axes>"
      ]
     },
     "metadata": {
      "needs_background": "light"
     },
     "output_type": "display_data"
    },
    {
     "data": {
      "image/png": "[encoded data removed]",
      "text/plain": [
       "<Figure size 432x288 with 1 Axes>"
      ]
     },
     "metadata": {
      "needs_background": "light"
     },
     "output_type": "display_data"
    },
    {
     "data": {
      "image/png": "[encoded data removed]",
      "text/plain": [
       "<Figure size 432x288 with 1 Axes>"
      ]
     },
     "metadata": {
      "needs_background": "light"
     },
     "output_type": "display_data"
    }
   ],
   "source": [
    "for i in df.columns:\n",
    "    sns.distplot(df[i])\n",
    "    plt.show()"
   ]
  },
  {
   "cell_type": "markdown",
   "id": "c65f99bb",
   "metadata": {},
   "source": [
    "## Spliting the Data"
   ]
  },
  {
   "cell_type": "code",
   "execution_count": 227,
   "id": "342c86ec",
   "metadata": {},
   "outputs": [],
   "source": [
    "X=df.drop('Exited',axis=1)\n",
    "y=df['Exited']"
   ]
  },
  {
   "cell_type": "code",
   "execution_count": 228,
   "id": "fb4d8856",
   "metadata": {},
   "outputs": [],
   "source": [
    "from sklearn.model_selection import train_test_split"
   ]
  },
  {
   "cell_type": "code",
   "execution_count": 229,
   "id": "818e75f9",
   "metadata": {},
   "outputs": [],
   "source": [
    "X_train, X_test, y_train, y_test = train_test_split(X, y, test_size=0.3, random_state=42)"
   ]
  },
  {
   "cell_type": "code",
   "execution_count": 230,
   "id": "ba09e8d7",
   "metadata": {},
   "outputs": [
    {
     "data": {
      "text/plain": [
       "<AxesSubplot:xlabel='Exited', ylabel='count'>"
      ]
     },
     "execution_count": 230,
     "metadata": {},
     "output_type": "execute_result"
    },
    {
     "data": {
      "image/png": "[encoded data removed]",
      "text/plain": [
       "<Figure size 432x288 with 1 Axes>"
      ]
     },
     "metadata": {
      "needs_background": "light"
     },
     "output_type": "display_data"
    }
   ],
   "source": [
    "sns.countplot(y_train)"
   ]
  },
  {
   "cell_type": "markdown",
   "id": "f7291730",
   "metadata": {},
   "source": [
    "## Balencing the data"
   ]
  },
  {
   "cell_type": "code",
   "execution_count": 231,
   "id": "d652ed66",
   "metadata": {},
   "outputs": [],
   "source": [
    "from imblearn.combine import SMOTETomek\n",
    "smt=SMOTETomek()"
   ]
  },
  {
   "cell_type": "code",
   "execution_count": 232,
   "id": "f93ba42e",
   "metadata": {},
   "outputs": [],
   "source": [
    "X_train,y_train=smt.fit_resample(X_train,y_train)"
   ]
  },
  {
   "cell_type": "code",
   "execution_count": 233,
   "id": "bb103f2b",
   "metadata": {
    "scrolled": true
   },
   "outputs": [
    {
     "data": {
      "text/plain": [
       "<AxesSubplot:xlabel='Exited', ylabel='count'>"
      ]
     },
     "execution_count": 233,
     "metadata": {},
     "output_type": "execute_result"
    },
    {
     "data": {
      "image/png": "[encoded data removed]",
      "text/plain": [
       "<Figure size 432x288 with 1 Axes>"
      ]
     },
     "metadata": {
      "needs_background": "light"
     },
     "output_type": "display_data"
    }
   ],
   "source": [
    "sns.countplot(y_train)"
   ]
  },
  {
   "cell_type": "markdown",
   "id": "c6b58c1c",
   "metadata": {},
   "source": [
    "## Scaling"
   ]
  },
  {
   "cell_type": "code",
   "execution_count": 234,
   "id": "cd6e5d22",
   "metadata": {},
   "outputs": [],
   "source": [
    "from sklearn.preprocessing import MinMaxScaler\n",
    "sc=MinMaxScaler()"
   ]
  },
  {
   "cell_type": "code",
   "execution_count": 235,
   "id": "c8dbe78f",
   "metadata": {},
   "outputs": [],
   "source": [
    "X_train=sc.fit_transform(X_train)\n",
    "X_test=sc.transform(X_test)"
   ]
  },
  {
   "cell_type": "markdown",
   "id": "0ddebbd4",
   "metadata": {},
   "source": [
    "## Deep Learning Model"
   ]
  },
  {
   "cell_type": "code",
   "execution_count": 236,
   "id": "cad66b23",
   "metadata": {},
   "outputs": [],
   "source": [
    "from tensorflow.keras import Sequential\n",
    "from tensorflow.keras.layers import Dense,Dropout\n",
    "from tensorflow.keras.callbacks import EarlyStopping"
   ]
  },
  {
   "cell_type": "code",
   "execution_count": 237,
   "id": "dc770985",
   "metadata": {},
   "outputs": [
    {
     "data": {
      "text/plain": [
       "(10000, 11)"
      ]
     },
     "execution_count": 237,
     "metadata": {},
     "output_type": "execute_result"
    }
   ],
   "source": [
    "X.shape"
   ]
  },
  {
   "cell_type": "markdown",
   "id": "552a8965",
   "metadata": {},
   "source": [
    "## BaseLine"
   ]
  },
  {
   "cell_type": "code",
   "execution_count": 238,
   "id": "a15c05a5",
   "metadata": {},
   "outputs": [],
   "source": [
    "model=Sequential()\n",
    "\n",
    "model.add(Dense(11,activation='relu'))\n",
    "\n",
    "model.add(Dense(9,activation='relu'))\n",
    "\n",
    "model.add(Dense(7,activation='relu'))\n",
    "\n",
    "model.add(Dense(7,activation='relu'))\n",
    "\n",
    "model.add(Dense(7,activation='relu'))\n",
    "\n",
    "model.add(Dense(7,activation='relu'))\n",
    "\n",
    "model.add(Dense(4,activation='relu'))\n",
    "\n",
    "model.add(Dense(1,activation='sigmoid'))\n",
    "\n",
    "model.compile(loss='binary_crossentropy', optimizer='adam', metrics=['accuracy'])"
   ]
  },
  {
   "cell_type": "code",
   "execution_count": 239,
   "id": "4ec185b1",
   "metadata": {
    "collapsed": true
   },
   "outputs": [
    {
     "name": "stdout",
     "output_type": "stream",
     "text": [
      "Epoch 1/100\n",
      "295/295 [==============================] - 3s 4ms/step - loss: 0.5966 - accuracy: 0.6942 - val_loss: 0.5581 - val_accuracy: 0.7180\n",
      "Epoch 2/100\n",
      "295/295 [==============================] - 1s 3ms/step - loss: 0.5201 - accuracy: 0.7437 - val_loss: 0.5390 - val_accuracy: 0.7323\n",
      "Epoch 3/100\n",
      "295/295 [==============================] - 1s 3ms/step - loss: 0.5025 - accuracy: 0.7501 - val_loss: 0.5708 - val_accuracy: 0.7127\n",
      "Epoch 4/100\n",
      "295/295 [==============================] - 1s 3ms/step - loss: 0.4950 - accuracy: 0.7554 - val_loss: 0.5686 - val_accuracy: 0.7153\n",
      "Epoch 5/100\n",
      "295/295 [==============================] - 1s 3ms/step - loss: 0.4875 - accuracy: 0.7554 - val_loss: 0.5000 - val_accuracy: 0.7633\n",
      "Epoch 6/100\n",
      "295/295 [==============================] - 1s 3ms/step - loss: 0.4829 - accuracy: 0.7576 - val_loss: 0.4984 - val_accuracy: 0.7690\n",
      "Epoch 7/100\n",
      "295/295 [==============================] - 1s 3ms/step - loss: 0.4760 - accuracy: 0.7644 - val_loss: 0.5354 - val_accuracy: 0.7453\n",
      "Epoch 8/100\n",
      "295/295 [==============================] - 1s 3ms/step - loss: 0.4734 - accuracy: 0.7645 - val_loss: 0.5085 - val_accuracy: 0.7583\n",
      "Epoch 9/100\n",
      "295/295 [==============================] - 1s 3ms/step - loss: 0.4695 - accuracy: 0.7656 - val_loss: 0.5156 - val_accuracy: 0.7503\n",
      "Epoch 10/100\n",
      "295/295 [==============================] - 1s 3ms/step - loss: 0.4652 - accuracy: 0.7676 - val_loss: 0.4569 - val_accuracy: 0.7937\n",
      "Epoch 11/100\n",
      "295/295 [==============================] - 1s 3ms/step - loss: 0.4571 - accuracy: 0.7774 - val_loss: 0.4778 - val_accuracy: 0.7753\n",
      "Epoch 12/100\n",
      "295/295 [==============================] - 1s 3ms/step - loss: 0.4515 - accuracy: 0.7799 - val_loss: 0.4894 - val_accuracy: 0.7653\n",
      "Epoch 13/100\n",
      "295/295 [==============================] - 1s 3ms/step - loss: 0.4443 - accuracy: 0.7846 - val_loss: 0.4516 - val_accuracy: 0.7960\n",
      "Epoch 14/100\n",
      "295/295 [==============================] - 1s 3ms/step - loss: 0.4402 - accuracy: 0.7887 - val_loss: 0.5095 - val_accuracy: 0.7557\n",
      "Epoch 15/100\n",
      "295/295 [==============================] - 1s 3ms/step - loss: 0.4372 - accuracy: 0.7894 - val_loss: 0.4290 - val_accuracy: 0.8010\n",
      "Epoch 16/100\n",
      "295/295 [==============================] - 1s 3ms/step - loss: 0.4356 - accuracy: 0.7931 - val_loss: 0.4408 - val_accuracy: 0.7973\n",
      "Epoch 17/100\n",
      "295/295 [==============================] - 1s 3ms/step - loss: 0.4324 - accuracy: 0.7893 - val_loss: 0.4825 - val_accuracy: 0.7727\n",
      "Epoch 18/100\n",
      "295/295 [==============================] - 1s 3ms/step - loss: 0.4296 - accuracy: 0.7929 - val_loss: 0.4661 - val_accuracy: 0.7767\n",
      "Epoch 19/100\n",
      "295/295 [==============================] - 1s 3ms/step - loss: 0.4291 - accuracy: 0.7913 - val_loss: 0.4365 - val_accuracy: 0.7950\n",
      "Epoch 20/100\n",
      "295/295 [==============================] - 1s 3ms/step - loss: 0.4254 - accuracy: 0.7958 - val_loss: 0.4550 - val_accuracy: 0.7863\n",
      "Epoch 21/100\n",
      "295/295 [==============================] - 1s 3ms/step - loss: 0.4256 - accuracy: 0.7940 - val_loss: 0.4382 - val_accuracy: 0.7980\n",
      "Epoch 22/100\n",
      "295/295 [==============================] - 1s 3ms/step - loss: 0.4237 - accuracy: 0.7921 - val_loss: 0.4226 - val_accuracy: 0.8083\n",
      "Epoch 23/100\n",
      "295/295 [==============================] - 1s 3ms/step - loss: 0.4232 - accuracy: 0.7919 - val_loss: 0.4335 - val_accuracy: 0.7973\n",
      "Epoch 24/100\n",
      "295/295 [==============================] - 1s 3ms/step - loss: 0.4213 - accuracy: 0.7971 - val_loss: 0.4774 - val_accuracy: 0.7803\n",
      "Epoch 25/100\n",
      "295/295 [==============================] - 1s 3ms/step - loss: 0.4202 - accuracy: 0.7956 - val_loss: 0.4452 - val_accuracy: 0.7953\n",
      "Epoch 26/100\n",
      "295/295 [==============================] - 1s 3ms/step - loss: 0.4219 - accuracy: 0.7958 - val_loss: 0.4855 - val_accuracy: 0.7663\n",
      "Epoch 27/100\n",
      "295/295 [==============================] - 1s 3ms/step - loss: 0.4177 - accuracy: 0.7991 - val_loss: 0.5239 - val_accuracy: 0.7440\n",
      "Epoch 28/100\n",
      "295/295 [==============================] - 1s 3ms/step - loss: 0.4178 - accuracy: 0.7997 - val_loss: 0.4887 - val_accuracy: 0.7617\n",
      "Epoch 29/100\n",
      "295/295 [==============================] - 1s 3ms/step - loss: 0.4167 - accuracy: 0.8018 - val_loss: 0.4272 - val_accuracy: 0.8050\n",
      "Epoch 30/100\n",
      "295/295 [==============================] - 1s 3ms/step - loss: 0.4169 - accuracy: 0.8021 - val_loss: 0.4395 - val_accuracy: 0.7977\n",
      "Epoch 31/100\n",
      "295/295 [==============================] - 1s 3ms/step - loss: 0.4156 - accuracy: 0.8015 - val_loss: 0.4083 - val_accuracy: 0.8167\n",
      "Epoch 32/100\n",
      "295/295 [==============================] - 1s 3ms/step - loss: 0.4147 - accuracy: 0.8005 - val_loss: 0.4905 - val_accuracy: 0.7727\n",
      "Epoch 33/100\n",
      "295/295 [==============================] - 1s 3ms/step - loss: 0.4153 - accuracy: 0.8020 - val_loss: 0.4653 - val_accuracy: 0.7777\n",
      "Epoch 34/100\n",
      "295/295 [==============================] - 1s 4ms/step - loss: 0.4125 - accuracy: 0.8022 - val_loss: 0.4784 - val_accuracy: 0.7720\n",
      "Epoch 35/100\n",
      "295/295 [==============================] - 1s 5ms/step - loss: 0.4108 - accuracy: 0.8061 - val_loss: 0.4444 - val_accuracy: 0.7930\n",
      "Epoch 36/100\n",
      "295/295 [==============================] - 1s 3ms/step - loss: 0.4136 - accuracy: 0.8018 - val_loss: 0.4639 - val_accuracy: 0.7807\n",
      "Epoch 37/100\n",
      "295/295 [==============================] - 1s 3ms/step - loss: 0.4099 - accuracy: 0.8061 - val_loss: 0.4280 - val_accuracy: 0.8063\n",
      "Epoch 38/100\n",
      "295/295 [==============================] - 1s 3ms/step - loss: 0.4105 - accuracy: 0.8061 - val_loss: 0.4719 - val_accuracy: 0.7823\n",
      "Epoch 39/100\n",
      "295/295 [==============================] - 1s 4ms/step - loss: 0.4097 - accuracy: 0.8055 - val_loss: 0.4732 - val_accuracy: 0.7853\n",
      "Epoch 40/100\n",
      "295/295 [==============================] - 1s 5ms/step - loss: 0.4089 - accuracy: 0.8066 - val_loss: 0.4255 - val_accuracy: 0.8067\n",
      "Epoch 41/100\n",
      "295/295 [==============================] - 1s 4ms/step - loss: 0.4092 - accuracy: 0.8074 - val_loss: 0.4843 - val_accuracy: 0.7683\n",
      "Epoch 42/100\n",
      "295/295 [==============================] - 2s 5ms/step - loss: 0.4077 - accuracy: 0.8076 - val_loss: 0.4509 - val_accuracy: 0.7843\n",
      "Epoch 43/100\n",
      "295/295 [==============================] - 2s 6ms/step - loss: 0.4088 - accuracy: 0.8058 - val_loss: 0.4390 - val_accuracy: 0.7977\n",
      "Epoch 44/100\n",
      "295/295 [==============================] - 1s 5ms/step - loss: 0.4055 - accuracy: 0.8103 - val_loss: 0.5157 - val_accuracy: 0.7530\n",
      "Epoch 45/100\n",
      "295/295 [==============================] - 1s 4ms/step - loss: 0.4078 - accuracy: 0.8072 - val_loss: 0.4453 - val_accuracy: 0.7930\n",
      "Epoch 46/100\n",
      "295/295 [==============================] - 1s 4ms/step - loss: 0.4070 - accuracy: 0.8100 - val_loss: 0.4058 - val_accuracy: 0.8210\n",
      "Epoch 47/100\n",
      "295/295 [==============================] - 1s 4ms/step - loss: 0.4073 - accuracy: 0.8073 - val_loss: 0.4330 - val_accuracy: 0.8033\n",
      "Epoch 48/100\n",
      "295/295 [==============================] - 1s 4ms/step - loss: 0.4059 - accuracy: 0.8093 - val_loss: 0.4745 - val_accuracy: 0.7740\n",
      "Epoch 49/100\n",
      "295/295 [==============================] - 1s 5ms/step - loss: 0.4076 - accuracy: 0.8072 - val_loss: 0.4386 - val_accuracy: 0.7910\n",
      "Epoch 50/100\n",
      "295/295 [==============================] - 2s 5ms/step - loss: 0.4038 - accuracy: 0.8086 - val_loss: 0.4669 - val_accuracy: 0.7800\n",
      "Epoch 51/100\n",
      "295/295 [==============================] - 1s 4ms/step - loss: 0.4050 - accuracy: 0.8095 - val_loss: 0.4300 - val_accuracy: 0.7993\n",
      "Epoch 52/100\n",
      "295/295 [==============================] - 1s 4ms/step - loss: 0.4040 - accuracy: 0.8102 - val_loss: 0.4380 - val_accuracy: 0.7930\n",
      "Epoch 53/100\n",
      "295/295 [==============================] - 1s 3ms/step - loss: 0.4055 - accuracy: 0.8069 - val_loss: 0.4415 - val_accuracy: 0.7923\n",
      "Epoch 54/100\n",
      "295/295 [==============================] - 1s 3ms/step - loss: 0.4028 - accuracy: 0.8096 - val_loss: 0.4198 - val_accuracy: 0.8107\n",
      "Epoch 55/100\n",
      "295/295 [==============================] - 1s 4ms/step - loss: 0.4034 - accuracy: 0.8115 - val_loss: 0.4091 - val_accuracy: 0.8173\n",
      "Epoch 56/100\n",
      "295/295 [==============================] - 1s 4ms/step - loss: 0.4047 - accuracy: 0.8079 - val_loss: 0.4564 - val_accuracy: 0.7813\n",
      "Epoch 57/100\n",
      "295/295 [==============================] - 1s 3ms/step - loss: 0.4027 - accuracy: 0.8079 - val_loss: 0.4407 - val_accuracy: 0.7917\n",
      "Epoch 58/100\n",
      "295/295 [==============================] - 1s 3ms/step - loss: 0.4043 - accuracy: 0.8107 - val_loss: 0.4344 - val_accuracy: 0.7997\n",
      "Epoch 59/100\n",
      "295/295 [==============================] - 1s 3ms/step - loss: 0.4035 - accuracy: 0.8094 - val_loss: 0.4470 - val_accuracy: 0.7860\n",
      "Epoch 60/100\n",
      "295/295 [==============================] - 1s 3ms/step - loss: 0.4029 - accuracy: 0.8097 - val_loss: 0.4885 - val_accuracy: 0.7560\n",
      "Epoch 61/100\n",
      "295/295 [==============================] - 1s 3ms/step - loss: 0.4015 - accuracy: 0.8125 - val_loss: 0.4229 - val_accuracy: 0.8037\n",
      "Epoch 62/100\n",
      "295/295 [==============================] - 1s 3ms/step - loss: 0.4016 - accuracy: 0.8117 - val_loss: 0.4210 - val_accuracy: 0.8087\n",
      "Epoch 63/100\n",
      "295/295 [==============================] - 1s 3ms/step - loss: 0.4028 - accuracy: 0.8131 - val_loss: 0.4339 - val_accuracy: 0.7997\n",
      "Epoch 64/100\n",
      "295/295 [==============================] - 1s 3ms/step - loss: 0.4020 - accuracy: 0.8136 - val_loss: 0.4429 - val_accuracy: 0.7890\n",
      "Epoch 65/100\n",
      "295/295 [==============================] - 1s 3ms/step - loss: 0.4019 - accuracy: 0.8117 - val_loss: 0.5011 - val_accuracy: 0.7573\n",
      "Epoch 66/100\n",
      "295/295 [==============================] - 1s 3ms/step - loss: 0.4019 - accuracy: 0.8119 - val_loss: 0.4263 - val_accuracy: 0.8033\n",
      "Epoch 67/100\n",
      "295/295 [==============================] - 1s 3ms/step - loss: 0.4021 - accuracy: 0.8103 - val_loss: 0.4281 - val_accuracy: 0.7977\n",
      "Epoch 68/100\n",
      "295/295 [==============================] - 1s 3ms/step - loss: 0.3997 - accuracy: 0.8148 - val_loss: 0.4846 - val_accuracy: 0.7597\n",
      "Epoch 69/100\n",
      "295/295 [==============================] - 1s 3ms/step - loss: 0.3989 - accuracy: 0.8140 - val_loss: 0.4403 - val_accuracy: 0.7933\n",
      "Epoch 70/100\n",
      "295/295 [==============================] - 1s 3ms/step - loss: 0.4021 - accuracy: 0.8098 - val_loss: 0.4691 - val_accuracy: 0.7740\n",
      "Epoch 71/100\n",
      "295/295 [==============================] - 1s 3ms/step - loss: 0.3995 - accuracy: 0.8149 - val_loss: 0.4470 - val_accuracy: 0.7883\n",
      "Epoch 72/100\n",
      "295/295 [==============================] - 1s 3ms/step - loss: 0.3998 - accuracy: 0.8077 - val_loss: 0.4173 - val_accuracy: 0.8087\n",
      "Epoch 73/100\n",
      "295/295 [==============================] - 1s 3ms/step - loss: 0.3972 - accuracy: 0.8148 - val_loss: 0.4500 - val_accuracy: 0.7853\n",
      "Epoch 74/100\n",
      "295/295 [==============================] - 1s 3ms/step - loss: 0.3990 - accuracy: 0.8124 - val_loss: 0.4201 - val_accuracy: 0.8127\n",
      "Epoch 75/100\n",
      "295/295 [==============================] - 1s 3ms/step - loss: 0.3996 - accuracy: 0.8158 - val_loss: 0.4617 - val_accuracy: 0.7750\n",
      "Epoch 76/100\n",
      "295/295 [==============================] - 1s 3ms/step - loss: 0.4011 - accuracy: 0.8150 - val_loss: 0.4684 - val_accuracy: 0.7740\n",
      "Epoch 77/100\n",
      "295/295 [==============================] - 1s 3ms/step - loss: 0.3982 - accuracy: 0.8140 - val_loss: 0.4560 - val_accuracy: 0.7810\n",
      "Epoch 78/100\n",
      "295/295 [==============================] - 1s 3ms/step - loss: 0.3981 - accuracy: 0.8142 - val_loss: 0.4420 - val_accuracy: 0.7890\n",
      "Epoch 79/100\n",
      "295/295 [==============================] - 1s 4ms/step - loss: 0.3982 - accuracy: 0.8121 - val_loss: 0.4287 - val_accuracy: 0.8013\n",
      "Epoch 80/100\n",
      "295/295 [==============================] - 1s 4ms/step - loss: 0.3983 - accuracy: 0.8146 - val_loss: 0.4253 - val_accuracy: 0.8033\n",
      "Epoch 81/100\n",
      "295/295 [==============================] - 1s 3ms/step - loss: 0.3972 - accuracy: 0.8143 - val_loss: 0.4482 - val_accuracy: 0.7877\n",
      "Epoch 82/100\n",
      "295/295 [==============================] - 1s 3ms/step - loss: 0.3962 - accuracy: 0.8138 - val_loss: 0.4436 - val_accuracy: 0.7880\n",
      "Epoch 83/100\n",
      "295/295 [==============================] - 1s 3ms/step - loss: 0.3965 - accuracy: 0.8131 - val_loss: 0.4287 - val_accuracy: 0.8007\n",
      "Epoch 84/100\n",
      "295/295 [==============================] - 1s 3ms/step - loss: 0.3977 - accuracy: 0.8121 - val_loss: 0.4740 - val_accuracy: 0.7717\n",
      "Epoch 85/100\n",
      "295/295 [==============================] - 1s 3ms/step - loss: 0.3976 - accuracy: 0.8156 - val_loss: 0.4627 - val_accuracy: 0.7737\n",
      "Epoch 86/100\n",
      "295/295 [==============================] - 1s 4ms/step - loss: 0.3952 - accuracy: 0.8152 - val_loss: 0.4116 - val_accuracy: 0.8137\n",
      "Epoch 87/100\n",
      "295/295 [==============================] - 1s 3ms/step - loss: 0.3956 - accuracy: 0.8142 - val_loss: 0.4523 - val_accuracy: 0.7833\n",
      "Epoch 88/100\n",
      "295/295 [==============================] - 1s 3ms/step - loss: 0.3968 - accuracy: 0.8133 - val_loss: 0.4083 - val_accuracy: 0.8160\n",
      "Epoch 89/100\n",
      "295/295 [==============================] - 1s 3ms/step - loss: 0.3966 - accuracy: 0.8170 - val_loss: 0.4543 - val_accuracy: 0.7847\n",
      "Epoch 90/100\n",
      "295/295 [==============================] - 1s 3ms/step - loss: 0.3960 - accuracy: 0.8147 - val_loss: 0.4846 - val_accuracy: 0.7663\n",
      "Epoch 91/100\n",
      "295/295 [==============================] - 1s 3ms/step - loss: 0.3955 - accuracy: 0.8176 - val_loss: 0.5202 - val_accuracy: 0.7443\n",
      "Epoch 92/100\n",
      "295/295 [==============================] - 1s 3ms/step - loss: 0.3948 - accuracy: 0.8149 - val_loss: 0.4323 - val_accuracy: 0.8010\n",
      "Epoch 93/100\n",
      "295/295 [==============================] - 1s 3ms/step - loss: 0.3970 - accuracy: 0.8160 - val_loss: 0.4055 - val_accuracy: 0.8177\n",
      "Epoch 94/100\n",
      "295/295 [==============================] - 1s 3ms/step - loss: 0.3955 - accuracy: 0.8156 - val_loss: 0.4599 - val_accuracy: 0.7767\n",
      "Epoch 95/100\n",
      "295/295 [==============================] - 1s 3ms/step - loss: 0.3950 - accuracy: 0.8177 - val_loss: 0.4367 - val_accuracy: 0.7940\n",
      "Epoch 96/100\n",
      "295/295 [==============================] - 1s 3ms/step - loss: 0.3963 - accuracy: 0.8147 - val_loss: 0.4548 - val_accuracy: 0.7840\n",
      "Epoch 97/100\n",
      "295/295 [==============================] - 1s 3ms/step - loss: 0.3947 - accuracy: 0.8157 - val_loss: 0.4562 - val_accuracy: 0.7783\n",
      "Epoch 98/100\n",
      "295/295 [==============================] - 1s 3ms/step - loss: 0.3951 - accuracy: 0.8161 - val_loss: 0.4620 - val_accuracy: 0.7733\n",
      "Epoch 99/100\n",
      "295/295 [==============================] - 1s 3ms/step - loss: 0.3922 - accuracy: 0.8181 - val_loss: 0.4376 - val_accuracy: 0.7940\n",
      "Epoch 100/100\n",
      "295/295 [==============================] - 1s 3ms/step - loss: 0.3938 - accuracy: 0.8167 - val_loss: 0.4225 - val_accuracy: 0.8027\n"
     ]
    },
    {
     "data": {
      "text/plain": [
       "<keras.callbacks.History at 0x1aa206f09d0>"
      ]
     },
     "execution_count": 239,
     "metadata": {},
     "output_type": "execute_result"
    }
   ],
   "source": [
    "model.fit( x=X_train,\n",
    "    y=y_train,\n",
    "    batch_size=32,\n",
    "    epochs=100,\n",
    "    verbose='auto',\n",
    "    validation_data=(X_test,y_test))"
   ]
  },
  {
   "cell_type": "code",
   "execution_count": 240,
   "id": "ff4e8892",
   "metadata": {},
   "outputs": [],
   "source": [
    "loss=pd.DataFrame(model.history.history)"
   ]
  },
  {
   "cell_type": "code",
   "execution_count": 241,
   "id": "5b7440b3",
   "metadata": {},
   "outputs": [
    {
     "data": {
      "text/plain": [
       "<AxesSubplot:>"
      ]
     },
     "execution_count": 241,
     "metadata": {},
     "output_type": "execute_result"
    },
    {
     "data": {
      "image/png": "[encoded data removed]",
      "text/plain": [
       "<Figure size 432x288 with 1 Axes>"
      ]
     },
     "metadata": {
      "needs_background": "light"
     },
     "output_type": "display_data"
    }
   ],
   "source": [
    "loss.plot()"
   ]
  },
  {
   "cell_type": "code",
   "execution_count": 242,
   "id": "84732ba2",
   "metadata": {},
   "outputs": [],
   "source": [
    "from sklearn.metrics import classification_report,confusion_matrix,roc_auc_score,accuracy_score"
   ]
  },
  {
   "cell_type": "code",
   "execution_count": 243,
   "id": "9627fe3b",
   "metadata": {},
   "outputs": [
    {
     "name": "stdout",
     "output_type": "stream",
     "text": [
      "94/94 [==============================] - 0s 3ms/step\n"
     ]
    }
   ],
   "source": [
    "predictions = model.predict(X_test)"
   ]
  },
  {
   "cell_type": "code",
   "execution_count": 244,
   "id": "0324806f",
   "metadata": {},
   "outputs": [
    {
     "name": "stdout",
     "output_type": "stream",
     "text": [
      "              precision    recall  f1-score   support\n",
      "\n",
      "           0       0.90      0.85      0.87      2416\n",
      "           1       0.49      0.62      0.55       584\n",
      "\n",
      "    accuracy                           0.80      3000\n",
      "   macro avg       0.70      0.74      0.71      3000\n",
      "weighted avg       0.82      0.80      0.81      3000\n",
      "\n",
      "\n",
      "\n",
      "[[2043  373]\n",
      " [ 219  365]]\n",
      "\n",
      "\n",
      "0.8026666666666666\n",
      "\n",
      "\n",
      "Accuracy: 80.27%\n",
      "ROC AUC Score 0.7353062913907283\n"
     ]
    }
   ],
   "source": [
    "print(classification_report(y_test,predictions.round()))\n",
    "print('\\n')\n",
    "print(confusion_matrix(y_test, predictions.round()))\n",
    "print('\\n')\n",
    "print(accuracy_score(y_test, predictions.round()))\n",
    "print('\\n')\n",
    "accuracy = accuracy_score(y_test, predictions.round())\n",
    "print(\"Accuracy: %.2f%%\" % (accuracy * 100.0))\n",
    "print ('ROC AUC Score',roc_auc_score(y_test,predictions.round()))"
   ]
  },
  {
   "cell_type": "markdown",
   "id": "6e8e5ddd",
   "metadata": {},
   "source": [
    "## Dropout"
   ]
  },
  {
   "cell_type": "code",
   "execution_count": 245,
   "id": "76abd44a",
   "metadata": {},
   "outputs": [],
   "source": [
    "model=Sequential()\n",
    "\n",
    "model.add(Dense(11,activation='relu'))\n",
    "model.add(Dropout(0.2))\n",
    "\n",
    "model.add(Dense(9,activation='relu'))\n",
    "model.add(Dropout(0.2))\n",
    "\n",
    "model.add(Dense(7,activation='relu'))\n",
    "model.add(Dropout(0.2))\n",
    "\n",
    "model.add(Dense(7,activation='relu'))\n",
    "model.add(Dropout(0.2))\n",
    "\n",
    "model.add(Dense(7,activation='relu'))\n",
    "model.add(Dropout(0.2))\n",
    "\n",
    "model.add(Dense(7,activation='relu'))\n",
    "model.add(Dropout(0.2))\n",
    "\n",
    "model.add(Dense(4,activation='relu'))\n",
    "model.add(Dropout(0.2))\n",
    "\n",
    "model.add(Dense(1,activation='sigmoid'))\n",
    "\n",
    "model.compile(loss='binary_crossentropy', optimizer='adam', metrics=['accuracy'])"
   ]
  },
  {
   "cell_type": "code",
   "execution_count": 246,
   "id": "202ab45b",
   "metadata": {
    "collapsed": true
   },
   "outputs": [
    {
     "name": "stdout",
     "output_type": "stream",
     "text": [
      "Epoch 1/100\n",
      "295/295 [==============================] - 3s 5ms/step - loss: 0.6897 - accuracy: 0.5154 - val_loss: 0.6606 - val_accuracy: 0.6807\n",
      "Epoch 2/100\n",
      "295/295 [==============================] - 1s 3ms/step - loss: 0.6612 - accuracy: 0.6297 - val_loss: 0.5938 - val_accuracy: 0.6957\n",
      "Epoch 3/100\n",
      "295/295 [==============================] - 1s 4ms/step - loss: 0.6409 - accuracy: 0.6613 - val_loss: 0.5636 - val_accuracy: 0.6980\n",
      "Epoch 4/100\n",
      "295/295 [==============================] - 1s 3ms/step - loss: 0.6268 - accuracy: 0.6813 - val_loss: 0.6056 - val_accuracy: 0.6547\n",
      "Epoch 5/100\n",
      "295/295 [==============================] - 1s 4ms/step - loss: 0.6138 - accuracy: 0.6930 - val_loss: 0.6589 - val_accuracy: 0.5940\n",
      "Epoch 6/100\n",
      "295/295 [==============================] - 1s 4ms/step - loss: 0.6044 - accuracy: 0.6952 - val_loss: 0.6604 - val_accuracy: 0.5773\n",
      "Epoch 7/100\n",
      "295/295 [==============================] - 1s 4ms/step - loss: 0.6069 - accuracy: 0.6932 - val_loss: 0.6179 - val_accuracy: 0.6433\n",
      "Epoch 8/100\n",
      "295/295 [==============================] - 1s 4ms/step - loss: 0.6009 - accuracy: 0.6977 - val_loss: 0.6137 - val_accuracy: 0.6507\n",
      "Epoch 9/100\n",
      "295/295 [==============================] - 1s 3ms/step - loss: 0.5907 - accuracy: 0.7014 - val_loss: 0.6134 - val_accuracy: 0.6427\n",
      "Epoch 10/100\n",
      "295/295 [==============================] - 1s 4ms/step - loss: 0.5877 - accuracy: 0.7126 - val_loss: 0.5893 - val_accuracy: 0.6817\n",
      "Epoch 11/100\n",
      "295/295 [==============================] - 1s 4ms/step - loss: 0.5792 - accuracy: 0.7139 - val_loss: 0.5970 - val_accuracy: 0.6810\n",
      "Epoch 12/100\n",
      "295/295 [==============================] - 1s 4ms/step - loss: 0.5777 - accuracy: 0.7121 - val_loss: 0.5915 - val_accuracy: 0.6903\n",
      "Epoch 13/100\n",
      "295/295 [==============================] - 1s 4ms/step - loss: 0.5721 - accuracy: 0.7172 - val_loss: 0.5649 - val_accuracy: 0.7287\n",
      "Epoch 14/100\n",
      "295/295 [==============================] - 1s 4ms/step - loss: 0.5680 - accuracy: 0.7247 - val_loss: 0.6357 - val_accuracy: 0.6530\n",
      "Epoch 15/100\n",
      "295/295 [==============================] - 1s 4ms/step - loss: 0.5661 - accuracy: 0.7232 - val_loss: 0.6425 - val_accuracy: 0.6447\n",
      "Epoch 16/100\n",
      "295/295 [==============================] - 1s 4ms/step - loss: 0.5659 - accuracy: 0.7208 - val_loss: 0.6206 - val_accuracy: 0.6680\n",
      "Epoch 17/100\n",
      "295/295 [==============================] - 1s 4ms/step - loss: 0.5679 - accuracy: 0.7220 - val_loss: 0.6158 - val_accuracy: 0.6690\n",
      "Epoch 18/100\n",
      "295/295 [==============================] - 1s 4ms/step - loss: 0.5627 - accuracy: 0.7282 - val_loss: 0.6669 - val_accuracy: 0.6133\n",
      "Epoch 19/100\n",
      "295/295 [==============================] - 1s 4ms/step - loss: 0.5608 - accuracy: 0.7239 - val_loss: 0.5883 - val_accuracy: 0.6940\n",
      "Epoch 20/100\n",
      "295/295 [==============================] - 1s 3ms/step - loss: 0.5522 - accuracy: 0.7331 - val_loss: 0.5801 - val_accuracy: 0.7107\n",
      "Epoch 21/100\n",
      "295/295 [==============================] - 1s 4ms/step - loss: 0.5486 - accuracy: 0.7340 - val_loss: 0.5978 - val_accuracy: 0.6843\n",
      "Epoch 22/100\n",
      "295/295 [==============================] - 1s 4ms/step - loss: 0.5497 - accuracy: 0.7369 - val_loss: 0.5797 - val_accuracy: 0.7127\n",
      "Epoch 23/100\n",
      "295/295 [==============================] - 1s 4ms/step - loss: 0.5457 - accuracy: 0.7351 - val_loss: 0.6317 - val_accuracy: 0.6547\n",
      "Epoch 24/100\n",
      "295/295 [==============================] - 2s 5ms/step - loss: 0.5521 - accuracy: 0.7373 - val_loss: 0.6059 - val_accuracy: 0.6860\n",
      "Epoch 25/100\n",
      "295/295 [==============================] - 2s 6ms/step - loss: 0.5454 - accuracy: 0.7394 - val_loss: 0.5955 - val_accuracy: 0.6923\n",
      "Epoch 26/100\n",
      "295/295 [==============================] - 1s 4ms/step - loss: 0.5425 - accuracy: 0.7400 - val_loss: 0.6015 - val_accuracy: 0.6837\n",
      "Epoch 27/100\n",
      "295/295 [==============================] - 1s 4ms/step - loss: 0.5416 - accuracy: 0.7410 - val_loss: 0.5928 - val_accuracy: 0.6983\n",
      "Epoch 28/100\n",
      "295/295 [==============================] - 1s 5ms/step - loss: 0.5361 - accuracy: 0.7449 - val_loss: 0.5803 - val_accuracy: 0.7170\n",
      "Epoch 29/100\n",
      "295/295 [==============================] - 1s 4ms/step - loss: 0.5378 - accuracy: 0.7440 - val_loss: 0.5863 - val_accuracy: 0.7050\n",
      "Epoch 30/100\n",
      "295/295 [==============================] - 1s 3ms/step - loss: 0.5343 - accuracy: 0.7508 - val_loss: 0.6322 - val_accuracy: 0.6280\n",
      "Epoch 31/100\n",
      "295/295 [==============================] - 1s 3ms/step - loss: 0.5334 - accuracy: 0.7448 - val_loss: 0.6104 - val_accuracy: 0.6660\n",
      "Epoch 32/100\n",
      "295/295 [==============================] - 1s 3ms/step - loss: 0.5322 - accuracy: 0.7455 - val_loss: 0.5795 - val_accuracy: 0.6957\n",
      "Epoch 33/100\n",
      "295/295 [==============================] - 1s 3ms/step - loss: 0.5315 - accuracy: 0.7510 - val_loss: 0.5870 - val_accuracy: 0.7080\n",
      "Epoch 34/100\n",
      "295/295 [==============================] - 1s 3ms/step - loss: 0.5304 - accuracy: 0.7461 - val_loss: 0.6034 - val_accuracy: 0.6820\n",
      "Epoch 35/100\n",
      "295/295 [==============================] - 1s 4ms/step - loss: 0.5285 - accuracy: 0.7490 - val_loss: 0.5772 - val_accuracy: 0.7160\n",
      "Epoch 36/100\n",
      "295/295 [==============================] - 1s 4ms/step - loss: 0.5278 - accuracy: 0.7450 - val_loss: 0.6101 - val_accuracy: 0.6787\n",
      "Epoch 37/100\n",
      "295/295 [==============================] - 1s 4ms/step - loss: 0.5251 - accuracy: 0.7539 - val_loss: 0.5886 - val_accuracy: 0.7113\n",
      "Epoch 38/100\n",
      "295/295 [==============================] - 1s 4ms/step - loss: 0.5287 - accuracy: 0.7463 - val_loss: 0.6226 - val_accuracy: 0.6603\n",
      "Epoch 39/100\n",
      "295/295 [==============================] - 1s 4ms/step - loss: 0.5282 - accuracy: 0.7493 - val_loss: 0.5866 - val_accuracy: 0.6993\n",
      "Epoch 40/100\n",
      "295/295 [==============================] - 1s 3ms/step - loss: 0.5263 - accuracy: 0.7464 - val_loss: 0.6421 - val_accuracy: 0.6217\n",
      "Epoch 41/100\n",
      "295/295 [==============================] - 1s 3ms/step - loss: 0.5216 - accuracy: 0.7532 - val_loss: 0.6186 - val_accuracy: 0.6540\n",
      "Epoch 42/100\n",
      "295/295 [==============================] - 1s 3ms/step - loss: 0.5241 - accuracy: 0.7520 - val_loss: 0.6464 - val_accuracy: 0.6090\n",
      "Epoch 43/100\n",
      "295/295 [==============================] - 1s 4ms/step - loss: 0.5242 - accuracy: 0.7512 - val_loss: 0.6236 - val_accuracy: 0.6450\n",
      "Epoch 44/100\n",
      "295/295 [==============================] - 1s 3ms/step - loss: 0.5203 - accuracy: 0.7522 - val_loss: 0.6057 - val_accuracy: 0.6560\n",
      "Epoch 45/100\n",
      "295/295 [==============================] - 1s 3ms/step - loss: 0.5232 - accuracy: 0.7488 - val_loss: 0.6329 - val_accuracy: 0.6267\n",
      "Epoch 46/100\n",
      "295/295 [==============================] - 1s 4ms/step - loss: 0.5169 - accuracy: 0.7540 - val_loss: 0.6106 - val_accuracy: 0.6370\n",
      "Epoch 47/100\n",
      "295/295 [==============================] - 1s 4ms/step - loss: 0.5147 - accuracy: 0.7520 - val_loss: 0.5899 - val_accuracy: 0.6743\n",
      "Epoch 48/100\n",
      "295/295 [==============================] - 1s 4ms/step - loss: 0.5148 - accuracy: 0.7551 - val_loss: 0.5742 - val_accuracy: 0.6867\n",
      "Epoch 49/100\n",
      "295/295 [==============================] - 1s 4ms/step - loss: 0.5205 - accuracy: 0.7451 - val_loss: 0.5788 - val_accuracy: 0.6750\n",
      "Epoch 50/100\n",
      "295/295 [==============================] - 1s 4ms/step - loss: 0.5109 - accuracy: 0.7555 - val_loss: 0.6537 - val_accuracy: 0.6107\n",
      "Epoch 51/100\n",
      "295/295 [==============================] - 1s 3ms/step - loss: 0.5119 - accuracy: 0.7564 - val_loss: 0.6538 - val_accuracy: 0.5950\n",
      "Epoch 52/100\n",
      "295/295 [==============================] - 1s 3ms/step - loss: 0.5194 - accuracy: 0.7511 - val_loss: 0.5942 - val_accuracy: 0.6620\n",
      "Epoch 53/100\n",
      "295/295 [==============================] - 1s 3ms/step - loss: 0.5034 - accuracy: 0.7604 - val_loss: 0.6326 - val_accuracy: 0.6313\n",
      "Epoch 54/100\n",
      "295/295 [==============================] - 1s 3ms/step - loss: 0.5248 - accuracy: 0.7428 - val_loss: 0.6559 - val_accuracy: 0.5940\n",
      "Epoch 55/100\n",
      "295/295 [==============================] - 1s 3ms/step - loss: 0.5203 - accuracy: 0.7448 - val_loss: 0.6122 - val_accuracy: 0.6373\n",
      "Epoch 56/100\n",
      "295/295 [==============================] - 1s 3ms/step - loss: 0.5102 - accuracy: 0.7588 - val_loss: 0.6623 - val_accuracy: 0.5853\n",
      "Epoch 57/100\n",
      "295/295 [==============================] - 1s 3ms/step - loss: 0.5134 - accuracy: 0.7576 - val_loss: 0.5927 - val_accuracy: 0.6610\n",
      "Epoch 58/100\n",
      "295/295 [==============================] - 1s 3ms/step - loss: 0.5124 - accuracy: 0.7563 - val_loss: 0.5697 - val_accuracy: 0.6927\n",
      "Epoch 59/100\n",
      "295/295 [==============================] - 1s 3ms/step - loss: 0.5122 - accuracy: 0.7602 - val_loss: 0.6347 - val_accuracy: 0.6140\n",
      "Epoch 60/100\n",
      "295/295 [==============================] - 1s 3ms/step - loss: 0.5135 - accuracy: 0.7515 - val_loss: 0.6297 - val_accuracy: 0.6290\n",
      "Epoch 61/100\n",
      "295/295 [==============================] - 1s 3ms/step - loss: 0.5166 - accuracy: 0.7527 - val_loss: 0.6428 - val_accuracy: 0.6127\n",
      "Epoch 62/100\n",
      "295/295 [==============================] - 1s 3ms/step - loss: 0.5203 - accuracy: 0.7506 - val_loss: 0.5909 - val_accuracy: 0.6593\n",
      "Epoch 63/100\n",
      "295/295 [==============================] - 1s 3ms/step - loss: 0.5136 - accuracy: 0.7541 - val_loss: 0.6204 - val_accuracy: 0.6283\n",
      "Epoch 64/100\n",
      "295/295 [==============================] - 1s 3ms/step - loss: 0.5089 - accuracy: 0.7581 - val_loss: 0.6305 - val_accuracy: 0.6120\n",
      "Epoch 65/100\n",
      "295/295 [==============================] - 1s 3ms/step - loss: 0.5192 - accuracy: 0.7508 - val_loss: 0.6821 - val_accuracy: 0.5707\n",
      "Epoch 66/100\n",
      "295/295 [==============================] - 1s 3ms/step - loss: 0.5094 - accuracy: 0.7553 - val_loss: 0.6332 - val_accuracy: 0.6203\n",
      "Epoch 67/100\n",
      "295/295 [==============================] - 1s 3ms/step - loss: 0.5122 - accuracy: 0.7542 - val_loss: 0.6211 - val_accuracy: 0.6330\n",
      "Epoch 68/100\n",
      "295/295 [==============================] - 1s 3ms/step - loss: 0.5091 - accuracy: 0.7580 - val_loss: 0.6216 - val_accuracy: 0.6283\n",
      "Epoch 69/100\n",
      "295/295 [==============================] - 1s 3ms/step - loss: 0.5073 - accuracy: 0.7610 - val_loss: 0.6379 - val_accuracy: 0.6183\n",
      "Epoch 70/100\n",
      "295/295 [==============================] - 1s 3ms/step - loss: 0.5064 - accuracy: 0.7606 - val_loss: 0.6657 - val_accuracy: 0.6037\n",
      "Epoch 71/100\n",
      "295/295 [==============================] - 1s 3ms/step - loss: 0.5035 - accuracy: 0.7601 - val_loss: 0.6414 - val_accuracy: 0.6130\n",
      "Epoch 72/100\n",
      "295/295 [==============================] - 1s 3ms/step - loss: 0.5094 - accuracy: 0.7545 - val_loss: 0.6583 - val_accuracy: 0.5997\n",
      "Epoch 73/100\n",
      "295/295 [==============================] - 1s 3ms/step - loss: 0.5132 - accuracy: 0.7550 - val_loss: 0.6277 - val_accuracy: 0.6257\n",
      "Epoch 74/100\n",
      "295/295 [==============================] - 1s 3ms/step - loss: 0.5095 - accuracy: 0.7567 - val_loss: 0.5961 - val_accuracy: 0.6593\n",
      "Epoch 75/100\n",
      "295/295 [==============================] - 1s 3ms/step - loss: 0.5130 - accuracy: 0.7542 - val_loss: 0.5831 - val_accuracy: 0.6807\n",
      "Epoch 76/100\n",
      "295/295 [==============================] - 1s 3ms/step - loss: 0.5179 - accuracy: 0.7490 - val_loss: 0.6481 - val_accuracy: 0.6060\n",
      "Epoch 77/100\n",
      "295/295 [==============================] - 1s 3ms/step - loss: 0.5050 - accuracy: 0.7605 - val_loss: 0.5918 - val_accuracy: 0.6703\n",
      "Epoch 78/100\n",
      "295/295 [==============================] - 1s 3ms/step - loss: 0.5111 - accuracy: 0.7582 - val_loss: 0.6456 - val_accuracy: 0.6203\n",
      "Epoch 79/100\n",
      "295/295 [==============================] - 1s 3ms/step - loss: 0.5117 - accuracy: 0.7558 - val_loss: 0.6986 - val_accuracy: 0.5457\n",
      "Epoch 80/100\n",
      "295/295 [==============================] - 1s 3ms/step - loss: 0.5166 - accuracy: 0.7499 - val_loss: 0.6473 - val_accuracy: 0.6030\n",
      "Epoch 81/100\n",
      "295/295 [==============================] - 1s 3ms/step - loss: 0.5068 - accuracy: 0.7605 - val_loss: 0.6046 - val_accuracy: 0.6393\n",
      "Epoch 82/100\n",
      "295/295 [==============================] - 1s 3ms/step - loss: 0.5133 - accuracy: 0.7501 - val_loss: 0.6659 - val_accuracy: 0.5763\n",
      "Epoch 83/100\n",
      "295/295 [==============================] - 1s 3ms/step - loss: 0.5012 - accuracy: 0.7589 - val_loss: 0.5973 - val_accuracy: 0.6617\n",
      "Epoch 84/100\n",
      "295/295 [==============================] - 1s 3ms/step - loss: 0.5049 - accuracy: 0.7614 - val_loss: 0.5907 - val_accuracy: 0.6667\n",
      "Epoch 85/100\n",
      "295/295 [==============================] - 1s 3ms/step - loss: 0.5107 - accuracy: 0.7545 - val_loss: 0.6458 - val_accuracy: 0.6187\n",
      "Epoch 86/100\n",
      "295/295 [==============================] - 1s 3ms/step - loss: 0.5075 - accuracy: 0.7585 - val_loss: 0.6555 - val_accuracy: 0.5953\n",
      "Epoch 87/100\n",
      "295/295 [==============================] - 1s 3ms/step - loss: 0.5163 - accuracy: 0.7501 - val_loss: 0.6576 - val_accuracy: 0.5933\n",
      "Epoch 88/100\n",
      "295/295 [==============================] - 1s 3ms/step - loss: 0.5169 - accuracy: 0.7493 - val_loss: 0.6716 - val_accuracy: 0.5737\n",
      "Epoch 89/100\n",
      "295/295 [==============================] - 1s 3ms/step - loss: 0.5035 - accuracy: 0.7572 - val_loss: 0.6383 - val_accuracy: 0.6227\n",
      "Epoch 90/100\n",
      "295/295 [==============================] - 1s 3ms/step - loss: 0.5075 - accuracy: 0.7625 - val_loss: 0.6087 - val_accuracy: 0.6573\n",
      "Epoch 91/100\n",
      "295/295 [==============================] - 1s 3ms/step - loss: 0.5048 - accuracy: 0.7588 - val_loss: 0.6125 - val_accuracy: 0.6467\n",
      "Epoch 92/100\n",
      "295/295 [==============================] - 1s 3ms/step - loss: 0.5116 - accuracy: 0.7562 - val_loss: 0.6701 - val_accuracy: 0.5873\n",
      "Epoch 93/100\n",
      "295/295 [==============================] - 1s 3ms/step - loss: 0.5028 - accuracy: 0.7609 - val_loss: 0.5946 - val_accuracy: 0.6523\n",
      "Epoch 94/100\n",
      "295/295 [==============================] - 1s 3ms/step - loss: 0.5018 - accuracy: 0.7659 - val_loss: 0.5922 - val_accuracy: 0.6570\n",
      "Epoch 95/100\n",
      "295/295 [==============================] - 1s 3ms/step - loss: 0.5023 - accuracy: 0.7559 - val_loss: 0.6276 - val_accuracy: 0.6153\n",
      "Epoch 96/100\n",
      "295/295 [==============================] - 1s 3ms/step - loss: 0.5133 - accuracy: 0.7524 - val_loss: 0.6621 - val_accuracy: 0.5757\n",
      "Epoch 97/100\n",
      "295/295 [==============================] - 1s 3ms/step - loss: 0.5101 - accuracy: 0.7499 - val_loss: 0.6975 - val_accuracy: 0.5267\n",
      "Epoch 98/100\n",
      "295/295 [==============================] - 1s 3ms/step - loss: 0.5033 - accuracy: 0.7591 - val_loss: 0.6106 - val_accuracy: 0.6403\n",
      "Epoch 99/100\n",
      "295/295 [==============================] - 1s 3ms/step - loss: 0.5068 - accuracy: 0.7529 - val_loss: 0.6200 - val_accuracy: 0.6170\n",
      "Epoch 100/100\n",
      "295/295 [==============================] - 1s 3ms/step - loss: 0.5103 - accuracy: 0.7548 - val_loss: 0.6759 - val_accuracy: 0.5887\n"
     ]
    },
    {
     "data": {
      "text/plain": [
       "<keras.callbacks.History at 0x1aa23a8a4c0>"
      ]
     },
     "execution_count": 246,
     "metadata": {},
     "output_type": "execute_result"
    }
   ],
   "source": [
    "model.fit( x=X_train,\n",
    "    y=y_train,\n",
    "    batch_size=32,\n",
    "    epochs=100,\n",
    "    verbose='auto',\n",
    "    validation_data=(X_test,y_test))"
   ]
  },
  {
   "cell_type": "code",
   "execution_count": 247,
   "id": "92f2df54",
   "metadata": {},
   "outputs": [
    {
     "name": "stdout",
     "output_type": "stream",
     "text": [
      "94/94 [==============================] - 0s 2ms/step\n"
     ]
    }
   ],
   "source": [
    "predictions = model.predict(X_test)"
   ]
  },
  {
   "cell_type": "code",
   "execution_count": 248,
   "id": "3d50f45b",
   "metadata": {},
   "outputs": [
    {
     "name": "stdout",
     "output_type": "stream",
     "text": [
      "              precision    recall  f1-score   support\n",
      "\n",
      "           0       0.96      0.51      0.67      2416\n",
      "           1       0.31      0.90      0.46       584\n",
      "\n",
      "    accuracy                           0.59      3000\n",
      "   macro avg       0.63      0.71      0.56      3000\n",
      "weighted avg       0.83      0.59      0.63      3000\n",
      "\n",
      "\n",
      "\n",
      "[[1240 1176]\n",
      " [  58  526]]\n",
      "\n",
      "\n",
      "0.5886666666666667\n",
      "\n",
      "\n",
      "Accuracy: 58.87%\n",
      "ROC AUC Score 0.7069649823097162\n"
     ]
    }
   ],
   "source": [
    "print(classification_report(y_test,predictions.round()))\n",
    "print('\\n')\n",
    "print(confusion_matrix(y_test, predictions.round()))\n",
    "print('\\n')\n",
    "print(accuracy_score(y_test, predictions.round()))\n",
    "print('\\n')\n",
    "accuracy = accuracy_score(y_test, predictions.round())\n",
    "print(\"Accuracy: %.2f%%\" % (accuracy * 100.0))\n",
    "print ('ROC AUC Score',roc_auc_score(y_test,predictions.round()))"
   ]
  },
  {
   "cell_type": "markdown",
   "id": "6cd6f945",
   "metadata": {},
   "source": [
    "## Early Stop"
   ]
  },
  {
   "cell_type": "code",
   "execution_count": 249,
   "id": "96e426c7",
   "metadata": {},
   "outputs": [],
   "source": [
    "model=Sequential()\n",
    "\n",
    "model.add(Dense(11,activation='relu'))\n",
    "\n",
    "model.add(Dense(9,activation='relu'))\n",
    "\n",
    "model.add(Dense(7,activation='relu'))\n",
    "\n",
    "model.add(Dense(7,activation='relu'))\n",
    "\n",
    "model.add(Dense(7,activation='relu'))\n",
    "\n",
    "model.add(Dense(7,activation='relu'))\n",
    "\n",
    "model.add(Dense(4,activation='relu'))\n",
    "\n",
    "model.add(Dense(1,activation='sigmoid'))\n",
    "\n",
    "model.compile(loss='binary_crossentropy', optimizer='adam', metrics=['accuracy'])"
   ]
  },
  {
   "cell_type": "code",
   "execution_count": 250,
   "id": "d0197379",
   "metadata": {},
   "outputs": [],
   "source": [
    "early= EarlyStopping(monitor='val_loss',patience=20,mode='min',verbose=0)"
   ]
  },
  {
   "cell_type": "code",
   "execution_count": 251,
   "id": "f484277f",
   "metadata": {
    "scrolled": true
   },
   "outputs": [
    {
     "name": "stdout",
     "output_type": "stream",
     "text": [
      "Epoch 1/100\n",
      "295/295 [==============================] - 2s 4ms/step - loss: 0.6466 - accuracy: 0.6326 - val_loss: 0.5897 - val_accuracy: 0.6083\n",
      "Epoch 2/100\n",
      "295/295 [==============================] - 1s 3ms/step - loss: 0.5643 - accuracy: 0.7366 - val_loss: 0.5937 - val_accuracy: 0.6500\n",
      "Epoch 3/100\n",
      "295/295 [==============================] - 1s 3ms/step - loss: 0.5209 - accuracy: 0.7488 - val_loss: 0.5030 - val_accuracy: 0.7477\n",
      "Epoch 4/100\n",
      "295/295 [==============================] - 1s 3ms/step - loss: 0.5038 - accuracy: 0.7557 - val_loss: 0.5610 - val_accuracy: 0.7153\n",
      "Epoch 5/100\n",
      "295/295 [==============================] - 1s 3ms/step - loss: 0.4914 - accuracy: 0.7607 - val_loss: 0.5756 - val_accuracy: 0.7023\n",
      "Epoch 6/100\n",
      "295/295 [==============================] - 1s 4ms/step - loss: 0.4826 - accuracy: 0.7680 - val_loss: 0.4943 - val_accuracy: 0.7630\n",
      "Epoch 7/100\n",
      "295/295 [==============================] - 2s 5ms/step - loss: 0.4753 - accuracy: 0.7706 - val_loss: 0.5151 - val_accuracy: 0.7457\n",
      "Epoch 8/100\n",
      "295/295 [==============================] - 1s 5ms/step - loss: 0.4711 - accuracy: 0.7704 - val_loss: 0.5251 - val_accuracy: 0.7267\n",
      "Epoch 9/100\n",
      "295/295 [==============================] - 1s 5ms/step - loss: 0.4643 - accuracy: 0.7793 - val_loss: 0.5336 - val_accuracy: 0.7243\n",
      "Epoch 10/100\n",
      "295/295 [==============================] - 1s 4ms/step - loss: 0.4618 - accuracy: 0.7777 - val_loss: 0.5589 - val_accuracy: 0.7170\n",
      "Epoch 11/100\n",
      "295/295 [==============================] - 1s 3ms/step - loss: 0.4619 - accuracy: 0.7796 - val_loss: 0.4959 - val_accuracy: 0.7647\n",
      "Epoch 12/100\n",
      "295/295 [==============================] - 1s 4ms/step - loss: 0.4583 - accuracy: 0.7800 - val_loss: 0.5150 - val_accuracy: 0.7477\n",
      "Epoch 13/100\n",
      "295/295 [==============================] - 1s 4ms/step - loss: 0.4571 - accuracy: 0.7781 - val_loss: 0.4889 - val_accuracy: 0.7687\n",
      "Epoch 14/100\n",
      "295/295 [==============================] - 1s 3ms/step - loss: 0.4562 - accuracy: 0.7778 - val_loss: 0.5192 - val_accuracy: 0.7287\n",
      "Epoch 15/100\n",
      "295/295 [==============================] - 1s 4ms/step - loss: 0.4546 - accuracy: 0.7822 - val_loss: 0.4644 - val_accuracy: 0.7810\n",
      "Epoch 16/100\n",
      "295/295 [==============================] - 1s 4ms/step - loss: 0.4552 - accuracy: 0.7807 - val_loss: 0.4872 - val_accuracy: 0.7683\n",
      "Epoch 17/100\n",
      "295/295 [==============================] - 1s 3ms/step - loss: 0.4521 - accuracy: 0.7809 - val_loss: 0.5403 - val_accuracy: 0.7100\n",
      "Epoch 18/100\n",
      "295/295 [==============================] - 1s 3ms/step - loss: 0.4524 - accuracy: 0.7796 - val_loss: 0.5557 - val_accuracy: 0.7160\n",
      "Epoch 19/100\n",
      "295/295 [==============================] - 1s 3ms/step - loss: 0.4498 - accuracy: 0.7845 - val_loss: 0.5396 - val_accuracy: 0.7210\n",
      "Epoch 20/100\n",
      "295/295 [==============================] - 1s 3ms/step - loss: 0.4493 - accuracy: 0.7844 - val_loss: 0.5142 - val_accuracy: 0.7417\n",
      "Epoch 21/100\n",
      "295/295 [==============================] - 1s 3ms/step - loss: 0.4487 - accuracy: 0.7819 - val_loss: 0.4807 - val_accuracy: 0.7690\n",
      "Epoch 22/100\n",
      "295/295 [==============================] - 1s 3ms/step - loss: 0.4462 - accuracy: 0.7869 - val_loss: 0.5012 - val_accuracy: 0.7660\n",
      "Epoch 23/100\n",
      "295/295 [==============================] - 1s 3ms/step - loss: 0.4473 - accuracy: 0.7865 - val_loss: 0.4867 - val_accuracy: 0.7613\n",
      "Epoch 24/100\n",
      "295/295 [==============================] - 1s 3ms/step - loss: 0.4462 - accuracy: 0.7871 - val_loss: 0.5577 - val_accuracy: 0.7077\n",
      "Epoch 25/100\n",
      "295/295 [==============================] - 1s 3ms/step - loss: 0.4452 - accuracy: 0.7860 - val_loss: 0.5424 - val_accuracy: 0.7247\n",
      "Epoch 26/100\n",
      "295/295 [==============================] - 1s 3ms/step - loss: 0.4422 - accuracy: 0.7876 - val_loss: 0.4687 - val_accuracy: 0.7777\n",
      "Epoch 27/100\n",
      "295/295 [==============================] - 1s 3ms/step - loss: 0.4419 - accuracy: 0.7884 - val_loss: 0.4733 - val_accuracy: 0.7793\n",
      "Epoch 28/100\n",
      "295/295 [==============================] - 1s 3ms/step - loss: 0.4417 - accuracy: 0.7870 - val_loss: 0.4591 - val_accuracy: 0.7870\n",
      "Epoch 29/100\n",
      "295/295 [==============================] - 1s 3ms/step - loss: 0.4388 - accuracy: 0.7914 - val_loss: 0.5299 - val_accuracy: 0.7287\n",
      "Epoch 30/100\n",
      "295/295 [==============================] - 1s 3ms/step - loss: 0.4381 - accuracy: 0.7913 - val_loss: 0.4472 - val_accuracy: 0.7977\n",
      "Epoch 31/100\n",
      "295/295 [==============================] - 1s 3ms/step - loss: 0.4378 - accuracy: 0.7931 - val_loss: 0.5113 - val_accuracy: 0.7473\n",
      "Epoch 32/100\n",
      "295/295 [==============================] - 1s 3ms/step - loss: 0.4363 - accuracy: 0.7956 - val_loss: 0.5020 - val_accuracy: 0.7440\n",
      "Epoch 33/100\n",
      "295/295 [==============================] - 1s 3ms/step - loss: 0.4352 - accuracy: 0.7919 - val_loss: 0.4689 - val_accuracy: 0.7790\n",
      "Epoch 34/100\n",
      "295/295 [==============================] - 1s 3ms/step - loss: 0.4353 - accuracy: 0.7874 - val_loss: 0.4726 - val_accuracy: 0.7730\n",
      "Epoch 35/100\n",
      "295/295 [==============================] - 1s 3ms/step - loss: 0.4353 - accuracy: 0.7922 - val_loss: 0.4617 - val_accuracy: 0.7763\n",
      "Epoch 36/100\n",
      "295/295 [==============================] - 1s 3ms/step - loss: 0.4354 - accuracy: 0.7934 - val_loss: 0.5246 - val_accuracy: 0.7377\n",
      "Epoch 37/100\n",
      "295/295 [==============================] - 1s 3ms/step - loss: 0.4344 - accuracy: 0.7933 - val_loss: 0.5250 - val_accuracy: 0.7337\n",
      "Epoch 38/100\n",
      "295/295 [==============================] - 1s 3ms/step - loss: 0.4336 - accuracy: 0.7904 - val_loss: 0.5160 - val_accuracy: 0.7357\n",
      "Epoch 39/100\n",
      "295/295 [==============================] - 1s 3ms/step - loss: 0.4333 - accuracy: 0.7962 - val_loss: 0.5143 - val_accuracy: 0.7393\n",
      "Epoch 40/100\n",
      "295/295 [==============================] - 1s 3ms/step - loss: 0.4326 - accuracy: 0.7962 - val_loss: 0.5389 - val_accuracy: 0.7250\n",
      "Epoch 41/100\n",
      "295/295 [==============================] - 1s 3ms/step - loss: 0.4306 - accuracy: 0.7957 - val_loss: 0.5246 - val_accuracy: 0.7387\n",
      "Epoch 42/100\n",
      "295/295 [==============================] - 1s 3ms/step - loss: 0.4339 - accuracy: 0.7927 - val_loss: 0.4945 - val_accuracy: 0.7623\n",
      "Epoch 43/100\n",
      "295/295 [==============================] - 1s 3ms/step - loss: 0.4305 - accuracy: 0.7945 - val_loss: 0.4908 - val_accuracy: 0.7620\n",
      "Epoch 44/100\n",
      "295/295 [==============================] - 1s 3ms/step - loss: 0.4311 - accuracy: 0.7955 - val_loss: 0.4837 - val_accuracy: 0.7633\n",
      "Epoch 45/100\n",
      "295/295 [==============================] - 1s 3ms/step - loss: 0.4301 - accuracy: 0.7972 - val_loss: 0.5022 - val_accuracy: 0.7450\n",
      "Epoch 46/100\n",
      "295/295 [==============================] - 1s 3ms/step - loss: 0.4291 - accuracy: 0.7951 - val_loss: 0.6058 - val_accuracy: 0.6697\n",
      "Epoch 47/100\n",
      "295/295 [==============================] - 1s 3ms/step - loss: 0.4304 - accuracy: 0.7980 - val_loss: 0.5291 - val_accuracy: 0.7310\n",
      "Epoch 48/100\n",
      "295/295 [==============================] - 1s 3ms/step - loss: 0.4296 - accuracy: 0.7970 - val_loss: 0.4744 - val_accuracy: 0.7683\n",
      "Epoch 49/100\n",
      "295/295 [==============================] - 1s 3ms/step - loss: 0.4285 - accuracy: 0.7967 - val_loss: 0.4819 - val_accuracy: 0.7693\n",
      "Epoch 50/100\n",
      "295/295 [==============================] - 1s 3ms/step - loss: 0.4300 - accuracy: 0.7961 - val_loss: 0.4900 - val_accuracy: 0.7557\n",
      "Epoch 51/100\n",
      "295/295 [==============================] - 1s 3ms/step - loss: 0.4271 - accuracy: 0.7961 - val_loss: 0.5258 - val_accuracy: 0.7283\n",
      "Epoch 52/100\n",
      "295/295 [==============================] - 1s 3ms/step - loss: 0.4268 - accuracy: 0.7990 - val_loss: 0.4700 - val_accuracy: 0.7680\n",
      "Epoch 53/100\n",
      "295/295 [==============================] - 1s 3ms/step - loss: 0.4279 - accuracy: 0.7988 - val_loss: 0.4534 - val_accuracy: 0.7853\n",
      "Epoch 54/100\n",
      "295/295 [==============================] - 1s 3ms/step - loss: 0.4267 - accuracy: 0.7988 - val_loss: 0.4870 - val_accuracy: 0.7550\n",
      "Epoch 55/100\n",
      "295/295 [==============================] - 1s 3ms/step - loss: 0.4277 - accuracy: 0.7954 - val_loss: 0.4622 - val_accuracy: 0.7793\n",
      "Epoch 56/100\n",
      "295/295 [==============================] - 1s 3ms/step - loss: 0.4250 - accuracy: 0.7982 - val_loss: 0.4549 - val_accuracy: 0.7857\n",
      "Epoch 57/100\n",
      "295/295 [==============================] - 1s 3ms/step - loss: 0.4256 - accuracy: 0.7982 - val_loss: 0.4709 - val_accuracy: 0.7730\n",
      "Epoch 58/100\n",
      "295/295 [==============================] - 1s 3ms/step - loss: 0.4240 - accuracy: 0.7980 - val_loss: 0.4851 - val_accuracy: 0.7573\n",
      "Epoch 59/100\n",
      "295/295 [==============================] - 1s 3ms/step - loss: 0.4261 - accuracy: 0.7985 - val_loss: 0.4672 - val_accuracy: 0.7683\n",
      "Epoch 60/100\n",
      "295/295 [==============================] - 1s 3ms/step - loss: 0.4241 - accuracy: 0.7978 - val_loss: 0.4576 - val_accuracy: 0.7850\n",
      "Epoch 61/100\n",
      "295/295 [==============================] - 1s 3ms/step - loss: 0.4252 - accuracy: 0.8007 - val_loss: 0.5005 - val_accuracy: 0.7497\n",
      "Epoch 62/100\n",
      "295/295 [==============================] - 1s 3ms/step - loss: 0.4225 - accuracy: 0.8002 - val_loss: 0.4480 - val_accuracy: 0.7877\n",
      "Epoch 63/100\n",
      "295/295 [==============================] - 1s 3ms/step - loss: 0.4229 - accuracy: 0.8022 - val_loss: 0.5413 - val_accuracy: 0.7250\n",
      "Epoch 64/100\n",
      "295/295 [==============================] - 1s 3ms/step - loss: 0.4232 - accuracy: 0.8020 - val_loss: 0.4868 - val_accuracy: 0.7573\n",
      "Epoch 65/100\n",
      "295/295 [==============================] - 1s 3ms/step - loss: 0.4227 - accuracy: 0.8029 - val_loss: 0.5395 - val_accuracy: 0.7223\n",
      "Epoch 66/100\n",
      "295/295 [==============================] - 1s 3ms/step - loss: 0.4224 - accuracy: 0.7986 - val_loss: 0.4772 - val_accuracy: 0.7583\n",
      "Epoch 67/100\n",
      "295/295 [==============================] - 1s 3ms/step - loss: 0.4217 - accuracy: 0.8007 - val_loss: 0.5101 - val_accuracy: 0.7420\n",
      "Epoch 68/100\n",
      "295/295 [==============================] - 1s 3ms/step - loss: 0.4216 - accuracy: 0.8032 - val_loss: 0.4561 - val_accuracy: 0.7857\n",
      "Epoch 69/100\n",
      "295/295 [==============================] - 1s 3ms/step - loss: 0.4219 - accuracy: 0.8013 - val_loss: 0.4566 - val_accuracy: 0.7817\n",
      "Epoch 70/100\n",
      "295/295 [==============================] - 1s 3ms/step - loss: 0.4200 - accuracy: 0.7998 - val_loss: 0.4832 - val_accuracy: 0.7637\n",
      "Epoch 71/100\n",
      "295/295 [==============================] - 1s 3ms/step - loss: 0.4213 - accuracy: 0.8017 - val_loss: 0.4777 - val_accuracy: 0.7633\n",
      "Epoch 72/100\n",
      "295/295 [==============================] - 1s 3ms/step - loss: 0.4221 - accuracy: 0.8022 - val_loss: 0.4286 - val_accuracy: 0.8063\n",
      "Epoch 73/100\n",
      "295/295 [==============================] - 1s 4ms/step - loss: 0.4194 - accuracy: 0.8014 - val_loss: 0.4773 - val_accuracy: 0.7620\n",
      "Epoch 74/100\n",
      "295/295 [==============================] - 1s 3ms/step - loss: 0.4200 - accuracy: 0.8019 - val_loss: 0.4351 - val_accuracy: 0.7953\n",
      "Epoch 75/100\n",
      "295/295 [==============================] - 1s 3ms/step - loss: 0.4205 - accuracy: 0.8036 - val_loss: 0.4686 - val_accuracy: 0.7723\n",
      "Epoch 76/100\n",
      "295/295 [==============================] - 1s 4ms/step - loss: 0.4197 - accuracy: 0.8018 - val_loss: 0.4556 - val_accuracy: 0.7747\n",
      "Epoch 77/100\n",
      "295/295 [==============================] - 1s 3ms/step - loss: 0.4182 - accuracy: 0.8041 - val_loss: 0.4776 - val_accuracy: 0.7633\n",
      "Epoch 78/100\n",
      "295/295 [==============================] - 1s 3ms/step - loss: 0.4198 - accuracy: 0.8023 - val_loss: 0.4705 - val_accuracy: 0.7687\n",
      "Epoch 79/100\n",
      "295/295 [==============================] - 1s 3ms/step - loss: 0.4204 - accuracy: 0.8033 - val_loss: 0.4528 - val_accuracy: 0.7837\n",
      "Epoch 80/100\n",
      "295/295 [==============================] - 1s 4ms/step - loss: 0.4199 - accuracy: 0.7986 - val_loss: 0.5107 - val_accuracy: 0.7357\n",
      "Epoch 81/100\n",
      "295/295 [==============================] - 1s 3ms/step - loss: 0.4182 - accuracy: 0.8019 - val_loss: 0.4787 - val_accuracy: 0.7653\n",
      "Epoch 82/100\n",
      "295/295 [==============================] - 1s 5ms/step - loss: 0.4175 - accuracy: 0.8039 - val_loss: 0.4600 - val_accuracy: 0.7757\n",
      "Epoch 83/100\n",
      "295/295 [==============================] - 1s 5ms/step - loss: 0.4189 - accuracy: 0.8003 - val_loss: 0.5062 - val_accuracy: 0.7517\n",
      "Epoch 84/100\n",
      "295/295 [==============================] - 1s 3ms/step - loss: 0.4178 - accuracy: 0.8027 - val_loss: 0.5100 - val_accuracy: 0.7423\n",
      "Epoch 85/100\n",
      "295/295 [==============================] - 1s 3ms/step - loss: 0.4166 - accuracy: 0.8013 - val_loss: 0.5305 - val_accuracy: 0.7303\n",
      "Epoch 86/100\n",
      "295/295 [==============================] - 1s 4ms/step - loss: 0.4198 - accuracy: 0.8035 - val_loss: 0.5112 - val_accuracy: 0.7410\n",
      "Epoch 87/100\n",
      "295/295 [==============================] - 1s 4ms/step - loss: 0.4168 - accuracy: 0.8014 - val_loss: 0.4808 - val_accuracy: 0.7640\n",
      "Epoch 88/100\n",
      "295/295 [==============================] - 1s 4ms/step - loss: 0.4158 - accuracy: 0.8039 - val_loss: 0.4642 - val_accuracy: 0.7720\n",
      "Epoch 89/100\n",
      "295/295 [==============================] - 1s 3ms/step - loss: 0.4163 - accuracy: 0.8040 - val_loss: 0.5265 - val_accuracy: 0.7313\n",
      "Epoch 90/100\n",
      "295/295 [==============================] - 1s 3ms/step - loss: 0.4178 - accuracy: 0.8045 - val_loss: 0.4451 - val_accuracy: 0.7860\n",
      "Epoch 91/100\n",
      "295/295 [==============================] - 1s 3ms/step - loss: 0.4151 - accuracy: 0.8043 - val_loss: 0.4843 - val_accuracy: 0.7623\n",
      "Epoch 92/100\n",
      "295/295 [==============================] - 1s 3ms/step - loss: 0.4162 - accuracy: 0.8052 - val_loss: 0.4448 - val_accuracy: 0.7893\n",
      "Epoch 93/100\n",
      "295/295 [==============================] - 1s 3ms/step - loss: 0.4180 - accuracy: 0.8035 - val_loss: 0.4591 - val_accuracy: 0.7770\n",
      "Epoch 94/100\n",
      "295/295 [==============================] - 1s 3ms/step - loss: 0.4167 - accuracy: 0.8048 - val_loss: 0.5624 - val_accuracy: 0.7133\n",
      "Epoch 95/100\n",
      "295/295 [==============================] - 1s 3ms/step - loss: 0.4154 - accuracy: 0.8090 - val_loss: 0.4489 - val_accuracy: 0.7850\n",
      "Epoch 96/100\n",
      "295/295 [==============================] - 1s 3ms/step - loss: 0.4180 - accuracy: 0.8041 - val_loss: 0.4519 - val_accuracy: 0.7817\n",
      "Epoch 97/100\n",
      "295/295 [==============================] - 1s 3ms/step - loss: 0.4142 - accuracy: 0.8032 - val_loss: 0.4845 - val_accuracy: 0.7630\n",
      "Epoch 98/100\n",
      "295/295 [==============================] - 1s 4ms/step - loss: 0.4161 - accuracy: 0.8021 - val_loss: 0.5080 - val_accuracy: 0.7423\n",
      "Epoch 99/100\n",
      "295/295 [==============================] - 1s 4ms/step - loss: 0.4144 - accuracy: 0.8024 - val_loss: 0.5410 - val_accuracy: 0.7240\n",
      "Epoch 100/100\n",
      "295/295 [==============================] - 1s 3ms/step - loss: 0.4151 - accuracy: 0.8035 - val_loss: 0.4750 - val_accuracy: 0.7697\n"
     ]
    },
    {
     "data": {
      "text/plain": [
       "<keras.callbacks.History at 0x1aa16e7dcd0>"
      ]
     },
     "execution_count": 251,
     "metadata": {},
     "output_type": "execute_result"
    }
   ],
   "source": [
    "model.fit( x=X_train,\n",
    "    y=y_train,\n",
    "    batch_size=32,\n",
    "    epochs=100,\n",
    "    verbose='auto',\n",
    "    validation_data=(X_test,y_test),callbacks=early)"
   ]
  },
  {
   "cell_type": "code",
   "execution_count": 252,
   "id": "dfdd0556",
   "metadata": {},
   "outputs": [
    {
     "name": "stdout",
     "output_type": "stream",
     "text": [
      "94/94 [==============================] - 0s 2ms/step\n"
     ]
    }
   ],
   "source": [
    "predictions = model.predict(X_test)"
   ]
  },
  {
   "cell_type": "code",
   "execution_count": 253,
   "id": "b2289f16",
   "metadata": {},
   "outputs": [
    {
     "name": "stdout",
     "output_type": "stream",
     "text": [
      "              precision    recall  f1-score   support\n",
      "\n",
      "           0       0.90      0.80      0.85      2416\n",
      "           1       0.44      0.64      0.52       584\n",
      "\n",
      "    accuracy                           0.77      3000\n",
      "   macro avg       0.67      0.72      0.68      3000\n",
      "weighted avg       0.81      0.77      0.78      3000\n",
      "\n",
      "\n",
      "\n",
      "[[1937  479]\n",
      " [ 212  372]]\n",
      "\n",
      "\n",
      "0.7696666666666667\n",
      "\n",
      "\n",
      "Accuracy: 76.97%\n",
      "ROC AUC Score 0.7193623559829447\n"
     ]
    }
   ],
   "source": [
    "print(classification_report(y_test,predictions.round()))\n",
    "print('\\n')\n",
    "print(confusion_matrix(y_test, predictions.round()))\n",
    "print('\\n')\n",
    "print(accuracy_score(y_test, predictions.round()))\n",
    "print('\\n')\n",
    "accuracy = accuracy_score(y_test, predictions.round())\n",
    "print(\"Accuracy: %.2f%%\" % (accuracy * 100.0))\n",
    "print ('ROC AUC Score',roc_auc_score(y_test,predictions.round()))"
   ]
  },
  {
   "cell_type": "code",
   "execution_count": 254,
   "id": "fc8edfff",
   "metadata": {},
   "outputs": [],
   "source": [
    "from sklearn.neural_network import MLPClassifier"
   ]
  },
  {
   "cell_type": "code",
   "execution_count": 256,
   "id": "328e0ac2",
   "metadata": {},
   "outputs": [
    {
     "name": "stdout",
     "output_type": "stream",
     "text": [
      "              precision    recall  f1-score   support\n",
      "\n",
      "           0       0.91      0.83      0.87      2416\n",
      "           1       0.48      0.65      0.55       584\n",
      "\n",
      "    accuracy                           0.79      3000\n",
      "   macro avg       0.69      0.74      0.71      3000\n",
      "weighted avg       0.82      0.79      0.81      3000\n",
      "\n",
      "\n",
      "\n",
      "[[2003  413]\n",
      " [ 204  380]]\n",
      "\n",
      "\n",
      "0.7943333333333333\n",
      "\n",
      "\n",
      "Accuracy: 79.43%\n",
      "ROC AUC Score 0.739870611448789\n"
     ]
    }
   ],
   "source": [
    "ml=MLPClassifier(hidden_layer_sizes=(1000,))\n",
    "ml.fit(X_train,y_train)\n",
    "predictions = ml.predict(X_test)\n",
    "print(classification_report(y_test,predictions.round()))\n",
    "print('\\n')\n",
    "print(confusion_matrix(y_test, predictions.round()))\n",
    "print('\\n')\n",
    "print(accuracy_score(y_test, predictions.round()))\n",
    "print('\\n')\n",
    "accuracy = accuracy_score(y_test, predictions.round())\n",
    "print(\"Accuracy: %.2f%%\" % (accuracy * 100.0))\n",
    "print ('ROC AUC Score',roc_auc_score(y_test,predictions.round()))"
   ]
  }
 ],
 "metadata": {
  "kernelspec": {
   "display_name": "Python 3 (ipykernel)",
   "language": "python",
   "name": "python3"
  },
  "language_info": {
   "codemirror_mode": {
    "name": "ipython",
    "version": 3
   },
   "file_extension": ".py",
   "mimetype": "text/x-python",
   "name": "python",
   "nbconvert_exporter": "python",
   "pygments_lexer": "ipython3",
   "version": "3.9.12"
  }
 },
 "nbformat": 4,
 "nbformat_minor": 5
}
